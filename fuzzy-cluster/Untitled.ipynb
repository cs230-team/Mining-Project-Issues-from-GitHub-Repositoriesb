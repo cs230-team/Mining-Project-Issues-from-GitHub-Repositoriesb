{
 "cells": [
  {
   "cell_type": "code",
   "execution_count": 1,
   "metadata": {
    "collapsed": true
   },
   "outputs": [],
   "source": [
    "import skfuzzy as fuzz\n",
    "import numpy as np\n",
    "import matplotlib.pyplot as plt"
   ]
  },
  {
   "cell_type": "code",
   "execution_count": 2,
   "metadata": {
    "collapsed": false
   },
   "outputs": [
    {
     "data": {
      "text/plain": [
       "(48, 264)"
      ]
     },
     "execution_count": 2,
     "metadata": {},
     "output_type": "execute_result"
    }
   ],
   "source": [
    "my_data = np.genfromtxt('dataset/mat_csv.csv', delimiter=',')\n",
    "my_data.shape"
   ]
  },
  {
   "cell_type": "code",
   "execution_count": 660,
   "metadata": {
    "collapsed": true
   },
   "outputs": [],
   "source": [
    "cntr, u, u_0, _, _, _, _ = fuzz.cmeans(my_data, 29, 1.7, error = 0.0001, maxiter = 100000)"
   ]
  },
  {
   "cell_type": "code",
   "execution_count": 661,
   "metadata": {
    "collapsed": false
   },
   "outputs": [],
   "source": [
    "labels = np.argmax(u, axis = 0)"
   ]
  },
  {
   "cell_type": "code",
   "execution_count": 662,
   "metadata": {
    "collapsed": false
   },
   "outputs": [
    {
     "data": {
      "text/plain": [
       "264"
      ]
     },
     "execution_count": 662,
     "metadata": {},
     "output_type": "execute_result"
    }
   ],
   "source": [
    "len(labels)"
   ]
  },
  {
   "cell_type": "code",
   "execution_count": 663,
   "metadata": {
    "collapsed": false
   },
   "outputs": [
    {
     "data": {
      "text/plain": [
       "29"
      ]
     },
     "execution_count": 663,
     "metadata": {},
     "output_type": "execute_result"
    }
   ],
   "source": [
    "len(np.argmax(u, axis = 1))"
   ]
  },
  {
   "cell_type": "code",
   "execution_count": 664,
   "metadata": {
    "collapsed": false
   },
   "outputs": [
    {
     "data": {
      "text/plain": [
       "(29,)"
      ]
     },
     "execution_count": 664,
     "metadata": {},
     "output_type": "execute_result"
    }
   ],
   "source": [
    "u.transpose()[0].shape"
   ]
  },
  {
   "cell_type": "code",
   "execution_count": 665,
   "metadata": {
    "collapsed": false
   },
   "outputs": [],
   "source": [
    "clus_3 = u.transpose()[0].argsort()[-3:][::-1]"
   ]
  },
  {
   "cell_type": "code",
   "execution_count": 666,
   "metadata": {
    "collapsed": false
   },
   "outputs": [
    {
     "data": {
      "text/plain": [
       "array([10, 25,  5], dtype=int64)"
      ]
     },
     "execution_count": 666,
     "metadata": {},
     "output_type": "execute_result"
    }
   ],
   "source": [
    "clus_3"
   ]
  },
  {
   "cell_type": "code",
   "execution_count": 667,
   "metadata": {
    "collapsed": false
   },
   "outputs": [],
   "source": [
    "i = 0\n",
    "text_file = open(\"dataset/filenames_1.txt\", \"r\")\n",
    "#lines = text_file.readlines()\n",
    "#print lines\n",
    "#print len(lines)\n",
    "#text_file.close()f = open('my_file', 'r+')\n",
    "lines = [line.rstrip('\\n') for line in text_file.readlines()]\n",
    "text_file.close()"
   ]
  },
  {
   "cell_type": "code",
   "execution_count": 668,
   "metadata": {
    "collapsed": false
   },
   "outputs": [
    {
     "data": {
      "text/plain": [
       "264"
      ]
     },
     "execution_count": 668,
     "metadata": {},
     "output_type": "execute_result"
    }
   ],
   "source": [
    "len(lines)"
   ]
  },
  {
   "cell_type": "code",
   "execution_count": 669,
   "metadata": {
    "collapsed": true
   },
   "outputs": [],
   "source": [
    "import json"
   ]
  },
  {
   "cell_type": "code",
   "execution_count": 670,
   "metadata": {
    "collapsed": false
   },
   "outputs": [],
   "source": [
    "pattern_data = json.load(open('dataset/pattern.json', encoding=\"utf8\"))    "
   ]
  },
  {
   "cell_type": "code",
   "execution_count": 671,
   "metadata": {
    "collapsed": false
   },
   "outputs": [
    {
     "data": {
      "text/plain": [
       "395"
      ]
     },
     "execution_count": 671,
     "metadata": {},
     "output_type": "execute_result"
    }
   ],
   "source": [
    "len(pattern_data)"
   ]
  },
  {
   "cell_type": "code",
   "execution_count": 672,
   "metadata": {
    "collapsed": false
   },
   "outputs": [],
   "source": [
    "for i in range(len(lines)):\n",
    "    lines[i] = lines[i].replace(\"#\", \"/\")"
   ]
  },
  {
   "cell_type": "code",
   "execution_count": 673,
   "metadata": {
    "collapsed": false
   },
   "outputs": [
    {
     "data": {
      "text/plain": [
       "'00b151_974027_src/com/google/javascript/jscomp/FunctionTypeBuilder.java'"
      ]
     },
     "execution_count": 673,
     "metadata": {},
     "output_type": "execute_result"
    }
   ],
   "source": [
    "lines[0]"
   ]
  },
  {
   "cell_type": "code",
   "execution_count": 674,
   "metadata": {
    "collapsed": false
   },
   "outputs": [
    {
     "data": {
      "text/plain": [
       "False"
      ]
     },
     "execution_count": 674,
     "metadata": {},
     "output_type": "execute_result"
    }
   ],
   "source": [
    "'src.com.google.javascript.jscomp.FunctionTypeBuilder.java' in lines[0]"
   ]
  },
  {
   "cell_type": "code",
   "execution_count": 675,
   "metadata": {
    "collapsed": true
   },
   "outputs": [],
   "source": [
    "pattern_dict = {}"
   ]
  },
  {
   "cell_type": "code",
   "execution_count": 676,
   "metadata": {
    "collapsed": true
   },
   "outputs": [],
   "source": [
    "pattern_files = []"
   ]
  },
  {
   "cell_type": "code",
   "execution_count": 677,
   "metadata": {
    "collapsed": false
   },
   "outputs": [
    {
     "data": {
      "text/plain": [
       "395"
      ]
     },
     "execution_count": 677,
     "metadata": {},
     "output_type": "execute_result"
    }
   ],
   "source": [
    "len(pattern_data)"
   ]
  },
  {
   "cell_type": "code",
   "execution_count": 678,
   "metadata": {
    "collapsed": false
   },
   "outputs": [
    {
     "data": {
      "text/plain": [
       "'org.jfree.chart.util.junit.ShapeListTests'"
      ]
     },
     "execution_count": 678,
     "metadata": {},
     "output_type": "execute_result"
    }
   ],
   "source": [
    "pattern_data[0]['failingTests'][0]['className'].lstrip()"
   ]
  },
  {
   "cell_type": "code",
   "execution_count": 679,
   "metadata": {
    "collapsed": false
   },
   "outputs": [],
   "source": [
    "i = 0\n",
    "for i in range(264):\n",
    "    flag = 0\n",
    "    for j in range(len(pattern_data)):\n",
    "        #print(len(pattern_data[j]['failingTests']))\n",
    "        \n",
    "        for k in range(len(pattern_data[j]['changedFiles'])):\n",
    "            for key in pattern_data[j]['changedFiles'].keys():\n",
    "                file_name = key.lstrip()\n",
    "                file_name = file_name.rstrip()\n",
    "                #print(file_name, lines[i])\n",
    "                if file_name in lines[i]:\n",
    "                    #print(\"*\")\n",
    "                    #print(pattern_data[j]['changedFiles'])\n",
    "                    #break\n",
    "                    flag = 1\n",
    "                    pattern_dict[i] = pattern_data[j]['repairPatterns']\n",
    "                    pattern_files.append(file_name)\n",
    "    if flag == 0:\n",
    "        print(lines[i])\n",
    "            "
   ]
  },
  {
   "cell_type": "code",
   "execution_count": 743,
   "metadata": {
    "collapsed": false
   },
   "outputs": [
    {
     "name": "stdout",
     "output_type": "stream",
     "text": [
      "2.378787878787879\n"
     ]
    }
   ],
   "source": [
    "avg_patterns = 0\n",
    "for i in range(264):\n",
    "    avg_patterns += len(pattern_dict[i])\n",
    "print(avg_patterns / 264)"
   ]
  },
  {
   "cell_type": "code",
   "execution_count": 745,
   "metadata": {
    "collapsed": false
   },
   "outputs": [
    {
     "data": {
      "text/plain": [
       "'00b151_974027_src/com/google/javascript/jscomp/FunctionTypeBuilder.java'"
      ]
     },
     "execution_count": 745,
     "metadata": {},
     "output_type": "execute_result"
    }
   ],
   "source": [
    "lines[0]"
   ]
  },
  {
   "cell_type": "code",
   "execution_count": 744,
   "metadata": {
    "collapsed": false
   },
   "outputs": [
    {
     "data": {
      "text/plain": [
       "{0: ['condBlockOthersAdd', 'missComp', 'missNullCheckN'],\n",
       " 1: ['condBlockRetAdd'],\n",
       " 2: ['expArithMod', 'missComp', 'singleLine'],\n",
       " 3: ['expLogicExpand', 'singleLine'],\n",
       " 4: ['expLogicMod', 'wrongComp'],\n",
       " 5: ['condBlockRetAdd', 'expLogicExpand'],\n",
       " 6: ['condBlockRetAdd', 'expLogicExpand'],\n",
       " 7: ['expLogicExpand'],\n",
       " 8: ['expLogicExpand', 'singleLine'],\n",
       " 9: ['condBlockOthersAdd', 'copyPaste', 'expLogicMod', 'initFix'],\n",
       " 10: ['blockRemove', 'condBlockOthersAdd', 'condBlockRem', 'missComp'],\n",
       " 11: ['condBlockOthersAdd', 'expLogicExpand', 'initFix', 'wrongMethodRef'],\n",
       " 12: ['condBlockRetAdd', 'expLogicExpand', 'missComp', 'missNullCheckP'],\n",
       " 13: ['condBlockRetAdd', 'expLogicExpand', 'missComp', 'missNullCheckP'],\n",
       " 14: ['expArithMod', 'missComp', 'singleLine'],\n",
       " 15: ['wrapsMethod'],\n",
       " 16: ['condBlockOthersAdd', 'missComp'],\n",
       " 17: ['condBlockRetAdd', 'expLogicExpand'],\n",
       " 18: ['condBlockRetAdd', 'missComp'],\n",
       " 19: ['expLogicMod', 'singleLine'],\n",
       " 20: ['expLogicExpand', 'wrapsIfElse', 'wrongMethodRef'],\n",
       " 21: ['condBlockExcAdd',\n",
       "  'condBlockOthersAdd',\n",
       "  'expLogicExpand',\n",
       "  'expLogicMod',\n",
       "  'initFix',\n",
       "  'missNullCheckN',\n",
       "  'missNullCheckP',\n",
       "  'wrapsIfElse'],\n",
       " 22: ['missComp', 'singleLine'],\n",
       " 23: ['condBlockOthersAdd', 'condBlockRetAdd', 'missComp'],\n",
       " 24: ['condBlockOthersAdd', 'missComp'],\n",
       " 25: ['expLogicExpand', 'singleLine'],\n",
       " 26: ['expLogicMod', 'wrongComp'],\n",
       " 27: ['condBlockRetAdd', 'expLogicMod'],\n",
       " 28: ['expLogicExpand'],\n",
       " 29: ['blockRemove', 'condBlockRem', 'wrongComp'],\n",
       " 30: ['missComp', 'singleLine'],\n",
       " 31: ['condBlockRetAdd', 'expLogicExpand'],\n",
       " 32: ['condBlockRetAdd', 'expLogicMod'],\n",
       " 33: ['expLogicExpand', 'singleLine'],\n",
       " 34: ['wrapsIfElse'],\n",
       " 35: ['expLogicExpand', 'singleLine'],\n",
       " 36: ['singleLine', 'wrapsIf'],\n",
       " 37: ['expLogicExpand'],\n",
       " 38: ['expLogicExpand', 'singleLine'],\n",
       " 39: ['expLogicExpand', 'singleLine'],\n",
       " 40: ['missComp', 'singleLine'],\n",
       " 41: ['expLogicMod', 'singleLine'],\n",
       " 42: ['condBlockOthersAdd'],\n",
       " 43: ['wrapsIfElse'],\n",
       " 44: ['condBlockRetAdd'],\n",
       " 45: ['condBlockOthersAdd', 'expLogicExpand', 'initFix', 'wrongMethodRef'],\n",
       " 46: ['singleLine', 'wrapsIf'],\n",
       " 47: ['singleLine', 'wrapsIfElse'],\n",
       " 48: ['condBlockExcAdd',\n",
       "  'condBlockOthersAdd',\n",
       "  'expLogicExpand',\n",
       "  'expLogicMod',\n",
       "  'initFix',\n",
       "  'missNullCheckN',\n",
       "  'missNullCheckP',\n",
       "  'wrapsIfElse'],\n",
       " 49: ['condBlockRetAdd'],\n",
       " 50: ['missComp', 'notClassified'],\n",
       " 51: ['copyPaste', 'wrongComp', 'wrongMethodRef'],\n",
       " 52: ['condBlockRetAdd', 'expLogicExpand'],\n",
       " 53: ['missComp', 'singleLine'],\n",
       " 54: ['expLogicExpand', 'expLogicMod', 'wrapsIf'],\n",
       " 55: ['copyPaste', 'expLogicExpand'],\n",
       " 56: ['expLogicExpand', 'singleLine'],\n",
       " 57: ['codeMove'],\n",
       " 58: ['expLogicExpand', 'singleLine'],\n",
       " 59: ['expLogicExpand', 'singleLine'],\n",
       " 60: ['expLogicExpand', 'singleLine'],\n",
       " 61: ['condBlockRetAdd', 'expLogicMod'],\n",
       " 62: ['condBlockRetAdd',\n",
       "  'expLogicReduce',\n",
       "  'initFix',\n",
       "  'missNullCheckP',\n",
       "  'wrapsIfElse',\n",
       "  'wrongMethodRef'],\n",
       " 63: ['wrapsIfElse'],\n",
       " 64: ['expLogicExpand', 'singleLine'],\n",
       " 65: ['missComp', 'singleLine'],\n",
       " 66: ['wrapsIfElse'],\n",
       " 67: ['expLogicExpand', 'singleLine'],\n",
       " 68: ['expLogicExpand', 'singleLine'],\n",
       " 69: ['expLogicExpand', 'singleLine'],\n",
       " 70: ['expLogicMod', 'wrongComp'],\n",
       " 71: ['expLogicExpand', 'singleLine'],\n",
       " 72: ['condBlockExcAdd',\n",
       "  'condBlockOthersAdd',\n",
       "  'expLogicExpand',\n",
       "  'expLogicMod',\n",
       "  'initFix',\n",
       "  'missNullCheckN',\n",
       "  'missNullCheckP',\n",
       "  'wrapsIfElse'],\n",
       " 73: ['expLogicMod', 'singleLine'],\n",
       " 74: ['wrapsMethod'],\n",
       " 75: ['expArithMod', 'missComp', 'singleLine'],\n",
       " 76: ['condBlockOthersAdd', 'condBlockRetAdd', 'missComp'],\n",
       " 77: ['condBlockRetAdd', 'expLogicMod'],\n",
       " 78: ['expLogicExpand', 'singleLine'],\n",
       " 79: ['condBlockOthersAdd', 'expLogicExpand', 'missNullCheckN'],\n",
       " 80: ['condBlockRetAdd', 'expLogicExpand'],\n",
       " 81: ['condBlockRetAdd', 'missComp'],\n",
       " 82: ['expLogicExpand', 'singleLine'],\n",
       " 83: ['expLogicExpand', 'wrapsIfElse', 'wrongMethodRef'],\n",
       " 84: ['condBlockRetAdd',\n",
       "  'expLogicReduce',\n",
       "  'initFix',\n",
       "  'missNullCheckP',\n",
       "  'wrapsIfElse',\n",
       "  'wrongMethodRef'],\n",
       " 85: ['condBlockRetAdd', 'expLogicMod'],\n",
       " 86: ['expLogicMod', 'missNullCheckN', 'singleLine'],\n",
       " 87: ['expLogicExpand'],\n",
       " 88: ['condBlockOthersAdd'],\n",
       " 89: ['missComp', 'wrapsLoop'],\n",
       " 90: ['condBlockRetAdd', 'missComp'],\n",
       " 91: ['expLogicExpand'],\n",
       " 92: ['expLogicExpand', 'singleLine'],\n",
       " 93: ['condBlockOthersAdd', 'missComp'],\n",
       " 94: ['expArithMod', 'missComp', 'singleLine'],\n",
       " 95: ['condBlockRetAdd', 'expLogicMod'],\n",
       " 96: ['condBlockOthersAdd'],\n",
       " 97: ['expLogicExpand', 'singleLine'],\n",
       " 98: ['wrapsIfElse'],\n",
       " 99: ['expLogicExpand', 'singleLine'],\n",
       " 100: ['expLogicExpand', 'singleLine'],\n",
       " 101: ['expLogicMod', 'wrongComp'],\n",
       " 102: ['condBlockOthersAdd',\n",
       "  'expLogicMod',\n",
       "  'initFix',\n",
       "  'missNullCheckN',\n",
       "  'missNullCheckP'],\n",
       " 103: ['missNullCheckP', 'singleLine', 'wrapsIfElse'],\n",
       " 104: ['blockRemove', 'expArithMod', 'fixAPI', 'wrongComp'],\n",
       " 105: ['condBlockExcAdd', 'condBlockRetAdd', 'wrapsIfElse'],\n",
       " 106: ['condBlockOthersAdd', 'condBlockRetAdd'],\n",
       " 107: ['condBlockExcAdd', 'condBlockRetAdd', 'expLogicMod', 'missComp'],\n",
       " 108: ['wrapsIfElse'],\n",
       " 109: ['condBlockOthersAdd', 'copyPaste', 'missComp'],\n",
       " 110: ['condBlockRetAdd', 'expLogicExpand'],\n",
       " 111: ['condBlockOthersAdd', 'missComp', 'missNullCheckP'],\n",
       " 112: ['missComp', 'singleLine'],\n",
       " 113: ['constChange', 'initFix'],\n",
       " 114: ['condBlockRetAdd', 'expLogicExpand'],\n",
       " 115: ['condBlockOthersAdd', 'missComp', 'missNullCheckP'],\n",
       " 116: ['wrapsIfElse'],\n",
       " 117: ['wrapsIf'],\n",
       " 118: ['condBlockRetAdd', 'fixAPI', 'wrongComp'],\n",
       " 119: ['expLogicExpand', 'missNullCheckN', 'unwrapIfElse'],\n",
       " 120: ['condBlockOthersAdd', 'expLogicExpand', 'missComp'],\n",
       " 121: ['constChange', 'expLogicMod', 'singleLine', 'wrongVarRef'],\n",
       " 122: ['missComp', 'notClassified'],\n",
       " 123: ['missComp', 'notClassified'],\n",
       " 124: ['condBlockRetAdd', 'expLogicExpand'],\n",
       " 125: ['condBlockExcAdd', 'condBlockRetAdd', 'wrapsIfElse'],\n",
       " 126: ['missComp', 'singleLine'],\n",
       " 127: ['notClassified'],\n",
       " 128: ['expLogicReduce', 'wrongMethodRef'],\n",
       " 129: ['condBlockRetAdd', 'expLogicExpand'],\n",
       " 130: ['condBlockExcAdd'],\n",
       " 131: ['wrapsIf'],\n",
       " 132: ['expArithMod', 'singleLine', 'wrongComp', 'wrongVarRef'],\n",
       " 133: ['condBlockRetAdd', 'wrongComp'],\n",
       " 134: ['wrapsIf'],\n",
       " 135: ['singleLine'],\n",
       " 136: ['initFix', 'notClassified', 'wrongComp'],\n",
       " 137: ['singleLine'],\n",
       " 138: ['expArithMod', 'singleLine', 'wrongComp', 'wrongVarRef'],\n",
       " 139: ['missComp', 'singleLine'],\n",
       " 140: ['condBlockExcAdd'],\n",
       " 141: ['initFix', 'missComp', 'unwrapIfElse', 'unwrapMethod'],\n",
       " 142: ['condBlockOthersAdd', 'condBlockRetAdd', 'missComp', 'wrapsIf'],\n",
       " 143: ['singleLine', 'wrongVarRef'],\n",
       " 144: ['condBlockExcAdd', 'condBlockRetAdd', 'initFix', 'wrapsTryCatch'],\n",
       " 145: ['expArithMod', 'singleLine', 'wrongComp', 'wrongVarRef'],\n",
       " 146: ['condBlockRetAdd', 'expLogicExpand'],\n",
       " 147: ['condBlockExcAdd'],\n",
       " 148: ['condBlockExcAdd', 'missNullCheckN', 'wrapsIfElse'],\n",
       " 149: ['condBlockExcAdd', 'missNullCheckN', 'wrapsIfElse'],\n",
       " 150: ['condBlockOthersAdd', 'missComp', 'missNullCheckP'],\n",
       " 151: ['condBlockOthersAdd', 'missComp', 'missNullCheckP'],\n",
       " 152: ['initFix', 'missComp', 'unwrapIfElse', 'unwrapMethod'],\n",
       " 153: ['condBlockOthersAdd', 'condBlockRetAdd', 'missComp', 'wrapsIf'],\n",
       " 154: ['expArithMod', 'singleLine', 'wrongComp', 'wrongVarRef'],\n",
       " 155: ['condBlockOthersAdd', 'missComp'],\n",
       " 156: ['condBlockRetAdd', 'expLogicExpand'],\n",
       " 157: ['condBlockOthersAdd', 'copyPaste', 'missComp'],\n",
       " 158: ['condBlockRetAdd', 'expLogicExpand'],\n",
       " 159: ['singleLine', 'wrongVarRef'],\n",
       " 160: ['notClassified'],\n",
       " 161: ['missComp', 'singleLine'],\n",
       " 162: ['wrapsIfElse'],\n",
       " 163: ['condBlockOthersAdd', 'missComp', 'missNullCheckP'],\n",
       " 164: ['initFix', 'wrongVarRef'],\n",
       " 165: ['singleLine'],\n",
       " 166: ['blockRemove', 'expArithMod', 'wrongComp'],\n",
       " 167: ['condBlockRetAdd', 'expArithMod', 'initFix', 'wrongComp'],\n",
       " 168: ['notClassified'],\n",
       " 169: ['condBlockExcAdd'],\n",
       " 170: ['expArithMod', 'singleLine', 'unwrapMethod'],\n",
       " 171: ['notClassified'],\n",
       " 172: ['condBlockOthersAdd', 'copyPaste', 'missComp'],\n",
       " 173: ['copyPaste', 'wrapsLoop', 'wrongComp', 'wrongVarRef'],\n",
       " 174: ['blockRemove', 'condBlockRem', 'wrapsIfElse', 'wrongComp'],\n",
       " 175: ['condBlockExcAdd'],\n",
       " 176: ['blockRemove',\n",
       "  'condBlockOthersAdd',\n",
       "  'condBlockRem',\n",
       "  'expArithMod',\n",
       "  'wrongComp',\n",
       "  'wrongVarRef'],\n",
       " 177: ['condBlockOthersAdd'],\n",
       " 178: ['condBlockRetAdd', 'missComp'],\n",
       " 179: ['expLogicExpand', 'singleLine'],\n",
       " 180: ['expLogicMod', 'singleLine', 'unwrapMethod'],\n",
       " 181: ['condBlockOthersAdd'],\n",
       " 182: ['copyPaste',\n",
       "  'expArithMod',\n",
       "  'expLogicMod',\n",
       "  'wrapsIfElse',\n",
       "  'wrongVarRef'],\n",
       " 183: ['expLogicMod', 'initFix'],\n",
       " 184: ['expArithMod', 'singleLine'],\n",
       " 185: ['expLogicMod', 'singleLine', 'wrongVarRef'],\n",
       " 186: ['condBlockRetAdd', 'copyPaste'],\n",
       " 187: ['singleLine', 'wrongMethodRef'],\n",
       " 188: ['expArithMod', 'expLogicMod', 'wrongComp', 'wrongVarRef'],\n",
       " 189: ['condBlockExcAdd', 'condBlockRetAdd', 'wrapsTryCatch', 'wrongComp'],\n",
       " 190: ['expLogicMod', 'singleLine'],\n",
       " 191: ['missComp', 'singleLine', 'wrongVarRef'],\n",
       " 192: ['notClassified'],\n",
       " 193: ['copyPaste', 'missComp'],\n",
       " 194: ['singleLine', 'wrongVarRef'],\n",
       " 195: ['expArithMod', 'singleLine', 'unwrapMethod'],\n",
       " 196: ['condBlockRetAdd', 'missNullCheckN', 'wrapsIfElse'],\n",
       " 197: ['wrapsIfElse'],\n",
       " 198: ['notClassified'],\n",
       " 199: ['expLogicMod', 'singleLine', 'unwrapMethod'],\n",
       " 200: ['initFix', 'notClassified', 'wrongComp'],\n",
       " 201: ['blockRemove', 'condBlockRem', 'wrapsIfElse', 'wrongComp'],\n",
       " 202: ['expLogicMod', 'singleLine', 'unwrapMethod'],\n",
       " 203: ['condBlockOthersAdd', 'missComp', 'wrongComp'],\n",
       " 204: ['condBlockExcAdd', 'missComp'],\n",
       " 205: ['condBlockExcAdd'],\n",
       " 206: ['expArithMod', 'singleLine'],\n",
       " 207: ['missComp', 'singleLine'],\n",
       " 208: ['condBlockExcAdd'],\n",
       " 209: ['copyPaste', 'wrapsIfElse'],\n",
       " 210: ['initFix', 'singleLine', 'wrongVarRef'],\n",
       " 211: ['expArithMod', 'wrongComp', 'wrongMethodRef'],\n",
       " 212: ['condBlockExcAdd', 'condBlockRetAdd', 'wrapsTryCatch', 'wrongComp'],\n",
       " 213: ['copyPaste', 'expArithMod', 'initFix', 'wrongComp'],\n",
       " 214: ['condBlockRetAdd'],\n",
       " 215: ['expArithMod', 'singleLine', 'wrongComp'],\n",
       " 216: ['copyPaste', 'wrapsMethod', 'wrongVarRef'],\n",
       " 217: ['condBlockExcAdd'],\n",
       " 218: ['condBlockExcAdd'],\n",
       " 219: ['expArithMod', 'singleLine'],\n",
       " 220: ['copyPaste', 'wrapsIfElse'],\n",
       " 221: ['condBlockExcAdd', 'condBlockOthersAdd', 'missComp'],\n",
       " 222: ['condBlockExcAdd'],\n",
       " 223: ['codeMove'],\n",
       " 224: ['condBlockOthersAdd', 'wrapsIfElse'],\n",
       " 225: ['expArithMod', 'singleLine'],\n",
       " 226: ['condBlockExcAdd', 'missComp'],\n",
       " 227: ['copyPaste', 'expArithMod', 'wrongComp'],\n",
       " 228: ['notClassified'],\n",
       " 229: ['initFix', 'notClassified', 'wrongComp'],\n",
       " 230: ['condBlockExcAdd'],\n",
       " 231: ['wrapsIf'],\n",
       " 232: ['copyPaste', 'wrapsMethod'],\n",
       " 233: ['expLogicMod'],\n",
       " 234: ['initFix', 'wrongMethodRef'],\n",
       " 235: ['blockRemove', 'expArithMod', 'wrongComp'],\n",
       " 236: ['expArithMod', 'initFix', 'wrongComp'],\n",
       " 237: ['constChange', 'expArithMod', 'singleLine'],\n",
       " 238: ['expLogicMod', 'singleLine', 'unwrapMethod'],\n",
       " 239: ['expLogicMod', 'singleLine', 'unwrapMethod'],\n",
       " 240: ['blockRemove', 'condBlockRem', 'wrapsIfElse', 'wrongComp'],\n",
       " 241: ['condBlockExcAdd', 'missComp'],\n",
       " 242: ['copyPaste', 'wrapsMethod'],\n",
       " 243: ['blockRemove', 'condBlockRem', 'wrapsIfElse', 'wrongComp'],\n",
       " 244: ['singleLine', 'wrongMethodRef'],\n",
       " 245: ['expLogicExpand', 'missNullCheckP', 'singleLine'],\n",
       " 246: ['initFix', 'wrapsIf'],\n",
       " 247: ['singleLine', 'wrapsMethod'],\n",
       " 248: ['condBlockOthersAdd', 'expLogicReduce'],\n",
       " 249: ['condBlockRetAdd'],\n",
       " 250: ['condBlockOthersAdd', 'condBlockRetAdd', 'missNullCheckN', 'wrongComp'],\n",
       " 251: ['initFix', 'notClassified'],\n",
       " 252: ['condBlockOthersAdd', 'condBlockRetAdd', 'missNullCheckN', 'wrongComp'],\n",
       " 253: ['missComp', 'wrongMethodRef'],\n",
       " 254: ['singleLine', 'wrapsIf'],\n",
       " 255: ['condBlockOthersAdd', 'condBlockRetAdd', 'missNullCheckN', 'wrongComp'],\n",
       " 256: ['initFix', 'notClassified'],\n",
       " 257: ['wrapsIfElse'],\n",
       " 258: ['condBlockOthersAdd'],\n",
       " 259: ['condBlockOthersAdd', 'condBlockRetAdd', 'wrongComp'],\n",
       " 260: ['singleLine', 'wrapsIfElse'],\n",
       " 261: ['missNullCheckP', 'singleLine', 'wrapsIfElse'],\n",
       " 262: ['initFix', 'notClassified'],\n",
       " 263: ['missNullCheckP', 'singleLine', 'wrapsIfElse']}"
      ]
     },
     "execution_count": 744,
     "metadata": {},
     "output_type": "execute_result"
    }
   ],
   "source": [
    "pattern_dict"
   ]
  },
  {
   "cell_type": "code",
   "execution_count": 680,
   "metadata": {
    "collapsed": false
   },
   "outputs": [
    {
     "data": {
      "text/plain": [
       "746"
      ]
     },
     "execution_count": 680,
     "metadata": {},
     "output_type": "execute_result"
    }
   ],
   "source": [
    "len(pattern_files)"
   ]
  },
  {
   "cell_type": "code",
   "execution_count": 681,
   "metadata": {
    "collapsed": false
   },
   "outputs": [
    {
     "data": {
      "text/plain": [
       "['condBlockOthersAdd', 'missComp', 'missNullCheckN']"
      ]
     },
     "execution_count": 681,
     "metadata": {},
     "output_type": "execute_result"
    }
   ],
   "source": [
    "pattern_dict[0]"
   ]
  },
  {
   "cell_type": "code",
   "execution_count": 682,
   "metadata": {
    "collapsed": false
   },
   "outputs": [
    {
     "data": {
      "text/plain": [
       "10"
      ]
     },
     "execution_count": 682,
     "metadata": {},
     "output_type": "execute_result"
    }
   ],
   "source": [
    "clus_3[0]"
   ]
  },
  {
   "cell_type": "code",
   "execution_count": 683,
   "metadata": {
    "collapsed": false
   },
   "outputs": [
    {
     "data": {
      "text/plain": [
       "(3,)"
      ]
     },
     "execution_count": 683,
     "metadata": {},
     "output_type": "execute_result"
    }
   ],
   "source": [
    "clus_3.shape"
   ]
  },
  {
   "cell_type": "code",
   "execution_count": 684,
   "metadata": {
    "collapsed": false
   },
   "outputs": [
    {
     "data": {
      "text/plain": [
       "264"
      ]
     },
     "execution_count": 684,
     "metadata": {},
     "output_type": "execute_result"
    }
   ],
   "source": [
    "len(pattern_dict)"
   ]
  },
  {
   "cell_type": "code",
   "execution_count": 685,
   "metadata": {
    "collapsed": true
   },
   "outputs": [],
   "source": [
    "############## Draw correspondence between cluster and repair pattern #############"
   ]
  },
  {
   "cell_type": "code",
   "execution_count": 686,
   "metadata": {
    "collapsed": true
   },
   "outputs": [],
   "source": [
    "pattern_map = {}"
   ]
  },
  {
   "cell_type": "code",
   "execution_count": 687,
   "metadata": {
    "collapsed": true
   },
   "outputs": [],
   "source": [
    "cluster_cnt = [0] * 29"
   ]
  },
  {
   "cell_type": "code",
   "execution_count": 688,
   "metadata": {
    "collapsed": true
   },
   "outputs": [
    {
     "data": {
      "text/plain": [
       "[0,\n",
       " 0,\n",
       " 0,\n",
       " 0,\n",
       " 0,\n",
       " 0,\n",
       " 0,\n",
       " 0,\n",
       " 0,\n",
       " 0,\n",
       " 0,\n",
       " 0,\n",
       " 0,\n",
       " 0,\n",
       " 0,\n",
       " 0,\n",
       " 0,\n",
       " 0,\n",
       " 0,\n",
       " 0,\n",
       " 0,\n",
       " 0,\n",
       " 0,\n",
       " 0,\n",
       " 0,\n",
       " 0,\n",
       " 0,\n",
       " 0,\n",
       " 0]"
      ]
     },
     "execution_count": 688,
     "metadata": {},
     "output_type": "execute_result"
    }
   ],
   "source": [
    "cluster_cnt"
   ]
  },
  {
   "cell_type": "code",
   "execution_count": 689,
   "metadata": {
    "collapsed": false
   },
   "outputs": [
    {
     "data": {
      "text/plain": [
       "array([10, 25,  5], dtype=int64)"
      ]
     },
     "execution_count": 689,
     "metadata": {},
     "output_type": "execute_result"
    }
   ],
   "source": [
    "u.transpose()[0].argsort()[-3:][::-1]"
   ]
  },
  {
   "cell_type": "code",
   "execution_count": 690,
   "metadata": {
    "collapsed": false
   },
   "outputs": [
    {
     "data": {
      "text/plain": [
       "[0.7220061472689558,\n",
       " 0.058442114384204144,\n",
       " 0.04567988223196489,\n",
       " 0.030790058736417807,\n",
       " 0.026895431899677753,\n",
       " 0.02016342122454331,\n",
       " 0.016601258108586824,\n",
       " 0.009385762814882563,\n",
       " 0.00813195071305615,\n",
       " 0.007505788125867187,\n",
       " 0.007280296142475745,\n",
       " 0.007280283213179464,\n",
       " 0.007277584638640716,\n",
       " 0.0050423521712524,\n",
       " 0.0050394645825609105,\n",
       " 0.004753315643630427,\n",
       " 0.0035738131855526747,\n",
       " 0.0033651973001584965,\n",
       " 0.0032359679993815504,\n",
       " 0.0027455295282918283,\n",
       " 0.0015327965495000706,\n",
       " 0.0011031559686016398,\n",
       " 0.0010598360307299643,\n",
       " 0.0006225493227295335,\n",
       " 0.00026307206161134584,\n",
       " 0.00010294191641886208,\n",
       " 6.072449432486673e-05,\n",
       " 3.1047291996927745e-05,\n",
       " 2.8256450805774392e-05]"
      ]
     },
     "execution_count": 690,
     "metadata": {},
     "output_type": "execute_result"
    }
   ],
   "source": [
    "sorted(u.transpose()[0], reverse = True)"
   ]
  },
  {
   "cell_type": "code",
   "execution_count": 694,
   "metadata": {
    "collapsed": false
   },
   "outputs": [
    {
     "data": {
      "image/png": "[encoded data removed]",
      "text/plain": [
       "<Figure size 432x288 with 1 Axes>"
      ]
     },
     "metadata": {
      "needs_background": "light"
     },
     "output_type": "display_data"
    }
   ],
   "source": [
    "plt.plot(range(29), u.transpose()[1])\n",
    "plt.show()"
   ]
  },
  {
   "cell_type": "code",
   "execution_count": 692,
   "metadata": {
    "collapsed": false
   },
   "outputs": [
    {
     "data": {
      "text/plain": [
       "['condBlockOthersAdd', 'missComp', 'missNullCheckN']"
      ]
     },
     "execution_count": 692,
     "metadata": {},
     "output_type": "execute_result"
    }
   ],
   "source": [
    "pattern_dict[0]"
   ]
  },
  {
   "cell_type": "code",
   "execution_count": 693,
   "metadata": {
    "collapsed": false
   },
   "outputs": [],
   "source": [
    "for i in range(264):\n",
    "    #print(u.transpose()[i].argsort()[-len(pattern_dict[i]):][::-1])\n",
    "    cnum = u.transpose()[i].argsort()[-len(pattern_dict[i]):][::-1]\n",
    "    pattern_map[i] = cnum\n",
    "    for j in cnum:\n",
    "        cluster_cnt[j] += 1"
   ]
  },
  {
   "cell_type": "code",
   "execution_count": 695,
   "metadata": {
    "collapsed": true
   },
   "outputs": [
    {
     "data": {
      "text/plain": [
       "[69,\n",
       " 12,\n",
       " 3,\n",
       " 9,\n",
       " 16,\n",
       " 32,\n",
       " 30,\n",
       " 71,\n",
       " 42,\n",
       " 27,\n",
       " 19,\n",
       " 12,\n",
       " 2,\n",
       " 24,\n",
       " 4,\n",
       " 5,\n",
       " 17,\n",
       " 19,\n",
       " 8,\n",
       " 14,\n",
       " 10,\n",
       " 60,\n",
       " 30,\n",
       " 12,\n",
       " 30,\n",
       " 24,\n",
       " 2,\n",
       " 3,\n",
       " 22]"
      ]
     },
     "execution_count": 695,
     "metadata": {},
     "output_type": "execute_result"
    }
   ],
   "source": [
    "cluster_cnt"
   ]
  },
  {
   "cell_type": "code",
   "execution_count": 696,
   "metadata": {
    "collapsed": false
   },
   "outputs": [],
   "source": [
    "############### Actual pattern counts #####################"
   ]
  },
  {
   "cell_type": "code",
   "execution_count": 697,
   "metadata": {
    "collapsed": false
   },
   "outputs": [],
   "source": [
    "actual_class_cnt = {}"
   ]
  },
  {
   "cell_type": "code",
   "execution_count": 698,
   "metadata": {
    "collapsed": false
   },
   "outputs": [],
   "source": [
    "for i in range(264):\n",
    "    for j in pattern_dict[i]:\n",
    "        if j in actual_class_cnt:\n",
    "            actual_class_cnt[j] += 1\n",
    "        else:\n",
    "            actual_class_cnt[j] = 1"
   ]
  },
  {
   "cell_type": "code",
   "execution_count": 699,
   "metadata": {
    "collapsed": false
   },
   "outputs": [
    {
     "name": "stdout",
     "output_type": "stream",
     "text": [
      "75\n"
     ]
    }
   ],
   "source": [
    "print(find_diff(cluster_cnt, actual_class_cnt))"
   ]
  },
  {
   "cell_type": "code",
   "execution_count": 700,
   "metadata": {
    "collapsed": false
   },
   "outputs": [],
   "source": [
    "def find_diff(cluster_cnt, actual_cnt):\n",
    "    x = sorted(actual_cnt.values())\n",
    "    y = sorted(cluster_cnt)\n",
    "    diff = 0\n",
    "    for i in range(26):\n",
    "        diff += abs(y[i] - x[i])\n",
    "    return diff"
   ]
  },
  {
   "cell_type": "code",
   "execution_count": 701,
   "metadata": {
    "collapsed": false
   },
   "outputs": [
    {
     "data": {
      "text/plain": [
       "628"
      ]
     },
     "execution_count": 701,
     "metadata": {},
     "output_type": "execute_result"
    }
   ],
   "source": [
    "sum(actual_class_cnt.values())"
   ]
  },
  {
   "cell_type": "code",
   "execution_count": 702,
   "metadata": {
    "collapsed": false
   },
   "outputs": [
    {
     "data": {
      "text/plain": [
       "0.11942675159235669"
      ]
     },
     "execution_count": 702,
     "metadata": {},
     "output_type": "execute_result"
    }
   ],
   "source": [
    "75/628"
   ]
  },
  {
   "cell_type": "code",
   "execution_count": 703,
   "metadata": {
    "collapsed": true
   },
   "outputs": [],
   "source": [
    "######################### Each class check the pattern#################"
   ]
  },
  {
   "cell_type": "code",
   "execution_count": 704,
   "metadata": {
    "collapsed": false
   },
   "outputs": [
    {
     "name": "stdout",
     "output_type": "stream",
     "text": [
      "['condBlockRetAdd', 'expLogicExpand', 'missComp', 'missNullCheckP']\n",
      "['condBlockOthersAdd', 'condBlockRetAdd', 'missComp']\n",
      "['blockRemove', 'expArithMod', 'fixAPI', 'wrongComp']\n",
      "['condBlockExcAdd']\n",
      "['notClassified']\n",
      "['blockRemove', 'condBlockOthersAdd', 'condBlockRem', 'expArithMod', 'wrongComp', 'wrongVarRef']\n",
      "['condBlockExcAdd', 'condBlockRetAdd', 'wrapsTryCatch', 'wrongComp']\n",
      "['blockRemove', 'expArithMod', 'wrongComp']\n",
      "['expArithMod', 'initFix', 'wrongComp']\n",
      "['blockRemove', 'condBlockRem', 'wrapsIfElse', 'wrongComp']\n"
     ]
    }
   ],
   "source": [
    "for i in range(264):\n",
    "    if 20 in pattern_map[i]:\n",
    "        #print(i)\n",
    "        print(pattern_dict[i])"
   ]
  },
  {
   "cell_type": "code",
   "execution_count": 705,
   "metadata": {
    "collapsed": true
   },
   "outputs": [
    {
     "data": {
      "text/plain": [
       "{0: ['condBlockOthersAdd', 'missComp', 'missNullCheckN'],\n",
       " 1: ['condBlockRetAdd'],\n",
       " 2: ['expArithMod', 'missComp', 'singleLine'],\n",
       " 3: ['expLogicExpand', 'singleLine'],\n",
       " 4: ['expLogicMod', 'wrongComp'],\n",
       " 5: ['condBlockRetAdd', 'expLogicExpand'],\n",
       " 6: ['condBlockRetAdd', 'expLogicExpand'],\n",
       " 7: ['expLogicExpand'],\n",
       " 8: ['expLogicExpand', 'singleLine'],\n",
       " 9: ['condBlockOthersAdd', 'copyPaste', 'expLogicMod', 'initFix'],\n",
       " 10: ['blockRemove', 'condBlockOthersAdd', 'condBlockRem', 'missComp'],\n",
       " 11: ['condBlockOthersAdd', 'expLogicExpand', 'initFix', 'wrongMethodRef'],\n",
       " 12: ['condBlockRetAdd', 'expLogicExpand', 'missComp', 'missNullCheckP'],\n",
       " 13: ['condBlockRetAdd', 'expLogicExpand', 'missComp', 'missNullCheckP'],\n",
       " 14: ['expArithMod', 'missComp', 'singleLine'],\n",
       " 15: ['wrapsMethod'],\n",
       " 16: ['condBlockOthersAdd', 'missComp'],\n",
       " 17: ['condBlockRetAdd', 'expLogicExpand'],\n",
       " 18: ['condBlockRetAdd', 'missComp'],\n",
       " 19: ['expLogicMod', 'singleLine'],\n",
       " 20: ['expLogicExpand', 'wrapsIfElse', 'wrongMethodRef'],\n",
       " 21: ['condBlockExcAdd',\n",
       "  'condBlockOthersAdd',\n",
       "  'expLogicExpand',\n",
       "  'expLogicMod',\n",
       "  'initFix',\n",
       "  'missNullCheckN',\n",
       "  'missNullCheckP',\n",
       "  'wrapsIfElse'],\n",
       " 22: ['missComp', 'singleLine'],\n",
       " 23: ['condBlockOthersAdd', 'condBlockRetAdd', 'missComp'],\n",
       " 24: ['condBlockOthersAdd', 'missComp'],\n",
       " 25: ['expLogicExpand', 'singleLine'],\n",
       " 26: ['expLogicMod', 'wrongComp'],\n",
       " 27: ['condBlockRetAdd', 'expLogicMod'],\n",
       " 28: ['expLogicExpand'],\n",
       " 29: ['blockRemove', 'condBlockRem', 'wrongComp'],\n",
       " 30: ['missComp', 'singleLine'],\n",
       " 31: ['condBlockRetAdd', 'expLogicExpand'],\n",
       " 32: ['condBlockRetAdd', 'expLogicMod'],\n",
       " 33: ['expLogicExpand', 'singleLine'],\n",
       " 34: ['wrapsIfElse'],\n",
       " 35: ['expLogicExpand', 'singleLine'],\n",
       " 36: ['singleLine', 'wrapsIf'],\n",
       " 37: ['expLogicExpand'],\n",
       " 38: ['expLogicExpand', 'singleLine'],\n",
       " 39: ['expLogicExpand', 'singleLine'],\n",
       " 40: ['missComp', 'singleLine'],\n",
       " 41: ['expLogicMod', 'singleLine'],\n",
       " 42: ['condBlockOthersAdd'],\n",
       " 43: ['wrapsIfElse'],\n",
       " 44: ['condBlockRetAdd'],\n",
       " 45: ['condBlockOthersAdd', 'expLogicExpand', 'initFix', 'wrongMethodRef'],\n",
       " 46: ['singleLine', 'wrapsIf'],\n",
       " 47: ['singleLine', 'wrapsIfElse'],\n",
       " 48: ['condBlockExcAdd',\n",
       "  'condBlockOthersAdd',\n",
       "  'expLogicExpand',\n",
       "  'expLogicMod',\n",
       "  'initFix',\n",
       "  'missNullCheckN',\n",
       "  'missNullCheckP',\n",
       "  'wrapsIfElse'],\n",
       " 49: ['condBlockRetAdd'],\n",
       " 50: ['missComp', 'notClassified'],\n",
       " 51: ['copyPaste', 'wrongComp', 'wrongMethodRef'],\n",
       " 52: ['condBlockRetAdd', 'expLogicExpand'],\n",
       " 53: ['missComp', 'singleLine'],\n",
       " 54: ['expLogicExpand', 'expLogicMod', 'wrapsIf'],\n",
       " 55: ['copyPaste', 'expLogicExpand'],\n",
       " 56: ['expLogicExpand', 'singleLine'],\n",
       " 57: ['codeMove'],\n",
       " 58: ['expLogicExpand', 'singleLine'],\n",
       " 59: ['expLogicExpand', 'singleLine'],\n",
       " 60: ['expLogicExpand', 'singleLine'],\n",
       " 61: ['condBlockRetAdd', 'expLogicMod'],\n",
       " 62: ['condBlockRetAdd',\n",
       "  'expLogicReduce',\n",
       "  'initFix',\n",
       "  'missNullCheckP',\n",
       "  'wrapsIfElse',\n",
       "  'wrongMethodRef'],\n",
       " 63: ['wrapsIfElse'],\n",
       " 64: ['expLogicExpand', 'singleLine'],\n",
       " 65: ['missComp', 'singleLine'],\n",
       " 66: ['wrapsIfElse'],\n",
       " 67: ['expLogicExpand', 'singleLine'],\n",
       " 68: ['expLogicExpand', 'singleLine'],\n",
       " 69: ['expLogicExpand', 'singleLine'],\n",
       " 70: ['expLogicMod', 'wrongComp'],\n",
       " 71: ['expLogicExpand', 'singleLine'],\n",
       " 72: ['condBlockExcAdd',\n",
       "  'condBlockOthersAdd',\n",
       "  'expLogicExpand',\n",
       "  'expLogicMod',\n",
       "  'initFix',\n",
       "  'missNullCheckN',\n",
       "  'missNullCheckP',\n",
       "  'wrapsIfElse'],\n",
       " 73: ['expLogicMod', 'singleLine'],\n",
       " 74: ['wrapsMethod'],\n",
       " 75: ['expArithMod', 'missComp', 'singleLine'],\n",
       " 76: ['condBlockOthersAdd', 'condBlockRetAdd', 'missComp'],\n",
       " 77: ['condBlockRetAdd', 'expLogicMod'],\n",
       " 78: ['expLogicExpand', 'singleLine'],\n",
       " 79: ['condBlockOthersAdd', 'expLogicExpand', 'missNullCheckN'],\n",
       " 80: ['condBlockRetAdd', 'expLogicExpand'],\n",
       " 81: ['condBlockRetAdd', 'missComp'],\n",
       " 82: ['expLogicExpand', 'singleLine'],\n",
       " 83: ['expLogicExpand', 'wrapsIfElse', 'wrongMethodRef'],\n",
       " 84: ['condBlockRetAdd',\n",
       "  'expLogicReduce',\n",
       "  'initFix',\n",
       "  'missNullCheckP',\n",
       "  'wrapsIfElse',\n",
       "  'wrongMethodRef'],\n",
       " 85: ['condBlockRetAdd', 'expLogicMod'],\n",
       " 86: ['expLogicMod', 'missNullCheckN', 'singleLine'],\n",
       " 87: ['expLogicExpand'],\n",
       " 88: ['condBlockOthersAdd'],\n",
       " 89: ['missComp', 'wrapsLoop'],\n",
       " 90: ['condBlockRetAdd', 'missComp'],\n",
       " 91: ['expLogicExpand'],\n",
       " 92: ['expLogicExpand', 'singleLine'],\n",
       " 93: ['condBlockOthersAdd', 'missComp'],\n",
       " 94: ['expArithMod', 'missComp', 'singleLine'],\n",
       " 95: ['condBlockRetAdd', 'expLogicMod'],\n",
       " 96: ['condBlockOthersAdd'],\n",
       " 97: ['expLogicExpand', 'singleLine'],\n",
       " 98: ['wrapsIfElse'],\n",
       " 99: ['expLogicExpand', 'singleLine'],\n",
       " 100: ['expLogicExpand', 'singleLine'],\n",
       " 101: ['expLogicMod', 'wrongComp'],\n",
       " 102: ['condBlockOthersAdd',\n",
       "  'expLogicMod',\n",
       "  'initFix',\n",
       "  'missNullCheckN',\n",
       "  'missNullCheckP'],\n",
       " 103: ['missNullCheckP', 'singleLine', 'wrapsIfElse'],\n",
       " 104: ['blockRemove', 'expArithMod', 'fixAPI', 'wrongComp'],\n",
       " 105: ['condBlockExcAdd', 'condBlockRetAdd', 'wrapsIfElse'],\n",
       " 106: ['condBlockOthersAdd', 'condBlockRetAdd'],\n",
       " 107: ['condBlockExcAdd', 'condBlockRetAdd', 'expLogicMod', 'missComp'],\n",
       " 108: ['wrapsIfElse'],\n",
       " 109: ['condBlockOthersAdd', 'copyPaste', 'missComp'],\n",
       " 110: ['condBlockRetAdd', 'expLogicExpand'],\n",
       " 111: ['condBlockOthersAdd', 'missComp', 'missNullCheckP'],\n",
       " 112: ['missComp', 'singleLine'],\n",
       " 113: ['constChange', 'initFix'],\n",
       " 114: ['condBlockRetAdd', 'expLogicExpand'],\n",
       " 115: ['condBlockOthersAdd', 'missComp', 'missNullCheckP'],\n",
       " 116: ['wrapsIfElse'],\n",
       " 117: ['wrapsIf'],\n",
       " 118: ['condBlockRetAdd', 'fixAPI', 'wrongComp'],\n",
       " 119: ['expLogicExpand', 'missNullCheckN', 'unwrapIfElse'],\n",
       " 120: ['condBlockOthersAdd', 'expLogicExpand', 'missComp'],\n",
       " 121: ['constChange', 'expLogicMod', 'singleLine', 'wrongVarRef'],\n",
       " 122: ['missComp', 'notClassified'],\n",
       " 123: ['missComp', 'notClassified'],\n",
       " 124: ['condBlockRetAdd', 'expLogicExpand'],\n",
       " 125: ['condBlockExcAdd', 'condBlockRetAdd', 'wrapsIfElse'],\n",
       " 126: ['missComp', 'singleLine'],\n",
       " 127: ['notClassified'],\n",
       " 128: ['expLogicReduce', 'wrongMethodRef'],\n",
       " 129: ['condBlockRetAdd', 'expLogicExpand'],\n",
       " 130: ['condBlockExcAdd'],\n",
       " 131: ['wrapsIf'],\n",
       " 132: ['expArithMod', 'singleLine', 'wrongComp', 'wrongVarRef'],\n",
       " 133: ['condBlockRetAdd', 'wrongComp'],\n",
       " 134: ['wrapsIf'],\n",
       " 135: ['singleLine'],\n",
       " 136: ['initFix', 'notClassified', 'wrongComp'],\n",
       " 137: ['singleLine'],\n",
       " 138: ['expArithMod', 'singleLine', 'wrongComp', 'wrongVarRef'],\n",
       " 139: ['missComp', 'singleLine'],\n",
       " 140: ['condBlockExcAdd'],\n",
       " 141: ['initFix', 'missComp', 'unwrapIfElse', 'unwrapMethod'],\n",
       " 142: ['condBlockOthersAdd', 'condBlockRetAdd', 'missComp', 'wrapsIf'],\n",
       " 143: ['singleLine', 'wrongVarRef'],\n",
       " 144: ['condBlockExcAdd', 'condBlockRetAdd', 'initFix', 'wrapsTryCatch'],\n",
       " 145: ['expArithMod', 'singleLine', 'wrongComp', 'wrongVarRef'],\n",
       " 146: ['condBlockRetAdd', 'expLogicExpand'],\n",
       " 147: ['condBlockExcAdd'],\n",
       " 148: ['condBlockExcAdd', 'missNullCheckN', 'wrapsIfElse'],\n",
       " 149: ['condBlockExcAdd', 'missNullCheckN', 'wrapsIfElse'],\n",
       " 150: ['condBlockOthersAdd', 'missComp', 'missNullCheckP'],\n",
       " 151: ['condBlockOthersAdd', 'missComp', 'missNullCheckP'],\n",
       " 152: ['initFix', 'missComp', 'unwrapIfElse', 'unwrapMethod'],\n",
       " 153: ['condBlockOthersAdd', 'condBlockRetAdd', 'missComp', 'wrapsIf'],\n",
       " 154: ['expArithMod', 'singleLine', 'wrongComp', 'wrongVarRef'],\n",
       " 155: ['condBlockOthersAdd', 'missComp'],\n",
       " 156: ['condBlockRetAdd', 'expLogicExpand'],\n",
       " 157: ['condBlockOthersAdd', 'copyPaste', 'missComp'],\n",
       " 158: ['condBlockRetAdd', 'expLogicExpand'],\n",
       " 159: ['singleLine', 'wrongVarRef'],\n",
       " 160: ['notClassified'],\n",
       " 161: ['missComp', 'singleLine'],\n",
       " 162: ['wrapsIfElse'],\n",
       " 163: ['condBlockOthersAdd', 'missComp', 'missNullCheckP'],\n",
       " 164: ['initFix', 'wrongVarRef'],\n",
       " 165: ['singleLine'],\n",
       " 166: ['blockRemove', 'expArithMod', 'wrongComp'],\n",
       " 167: ['condBlockRetAdd', 'expArithMod', 'initFix', 'wrongComp'],\n",
       " 168: ['notClassified'],\n",
       " 169: ['condBlockExcAdd'],\n",
       " 170: ['expArithMod', 'singleLine', 'unwrapMethod'],\n",
       " 171: ['notClassified'],\n",
       " 172: ['condBlockOthersAdd', 'copyPaste', 'missComp'],\n",
       " 173: ['copyPaste', 'wrapsLoop', 'wrongComp', 'wrongVarRef'],\n",
       " 174: ['blockRemove', 'condBlockRem', 'wrapsIfElse', 'wrongComp'],\n",
       " 175: ['condBlockExcAdd'],\n",
       " 176: ['blockRemove',\n",
       "  'condBlockOthersAdd',\n",
       "  'condBlockRem',\n",
       "  'expArithMod',\n",
       "  'wrongComp',\n",
       "  'wrongVarRef'],\n",
       " 177: ['condBlockOthersAdd'],\n",
       " 178: ['condBlockRetAdd', 'missComp'],\n",
       " 179: ['expLogicExpand', 'singleLine'],\n",
       " 180: ['expLogicMod', 'singleLine', 'unwrapMethod'],\n",
       " 181: ['condBlockOthersAdd'],\n",
       " 182: ['copyPaste',\n",
       "  'expArithMod',\n",
       "  'expLogicMod',\n",
       "  'wrapsIfElse',\n",
       "  'wrongVarRef'],\n",
       " 183: ['expLogicMod', 'initFix'],\n",
       " 184: ['expArithMod', 'singleLine'],\n",
       " 185: ['expLogicMod', 'singleLine', 'wrongVarRef'],\n",
       " 186: ['condBlockRetAdd', 'copyPaste'],\n",
       " 187: ['singleLine', 'wrongMethodRef'],\n",
       " 188: ['expArithMod', 'expLogicMod', 'wrongComp', 'wrongVarRef'],\n",
       " 189: ['condBlockExcAdd', 'condBlockRetAdd', 'wrapsTryCatch', 'wrongComp'],\n",
       " 190: ['expLogicMod', 'singleLine'],\n",
       " 191: ['missComp', 'singleLine', 'wrongVarRef'],\n",
       " 192: ['notClassified'],\n",
       " 193: ['copyPaste', 'missComp'],\n",
       " 194: ['singleLine', 'wrongVarRef'],\n",
       " 195: ['expArithMod', 'singleLine', 'unwrapMethod'],\n",
       " 196: ['condBlockRetAdd', 'missNullCheckN', 'wrapsIfElse'],\n",
       " 197: ['wrapsIfElse'],\n",
       " 198: ['notClassified'],\n",
       " 199: ['expLogicMod', 'singleLine', 'unwrapMethod'],\n",
       " 200: ['initFix', 'notClassified', 'wrongComp'],\n",
       " 201: ['blockRemove', 'condBlockRem', 'wrapsIfElse', 'wrongComp'],\n",
       " 202: ['expLogicMod', 'singleLine', 'unwrapMethod'],\n",
       " 203: ['condBlockOthersAdd', 'missComp', 'wrongComp'],\n",
       " 204: ['condBlockExcAdd', 'missComp'],\n",
       " 205: ['condBlockExcAdd'],\n",
       " 206: ['expArithMod', 'singleLine'],\n",
       " 207: ['missComp', 'singleLine'],\n",
       " 208: ['condBlockExcAdd'],\n",
       " 209: ['copyPaste', 'wrapsIfElse'],\n",
       " 210: ['initFix', 'singleLine', 'wrongVarRef'],\n",
       " 211: ['expArithMod', 'wrongComp', 'wrongMethodRef'],\n",
       " 212: ['condBlockExcAdd', 'condBlockRetAdd', 'wrapsTryCatch', 'wrongComp'],\n",
       " 213: ['copyPaste', 'expArithMod', 'initFix', 'wrongComp'],\n",
       " 214: ['condBlockRetAdd'],\n",
       " 215: ['expArithMod', 'singleLine', 'wrongComp'],\n",
       " 216: ['copyPaste', 'wrapsMethod', 'wrongVarRef'],\n",
       " 217: ['condBlockExcAdd'],\n",
       " 218: ['condBlockExcAdd'],\n",
       " 219: ['expArithMod', 'singleLine'],\n",
       " 220: ['copyPaste', 'wrapsIfElse'],\n",
       " 221: ['condBlockExcAdd', 'condBlockOthersAdd', 'missComp'],\n",
       " 222: ['condBlockExcAdd'],\n",
       " 223: ['codeMove'],\n",
       " 224: ['condBlockOthersAdd', 'wrapsIfElse'],\n",
       " 225: ['expArithMod', 'singleLine'],\n",
       " 226: ['condBlockExcAdd', 'missComp'],\n",
       " 227: ['copyPaste', 'expArithMod', 'wrongComp'],\n",
       " 228: ['notClassified'],\n",
       " 229: ['initFix', 'notClassified', 'wrongComp'],\n",
       " 230: ['condBlockExcAdd'],\n",
       " 231: ['wrapsIf'],\n",
       " 232: ['copyPaste', 'wrapsMethod'],\n",
       " 233: ['expLogicMod'],\n",
       " 234: ['initFix', 'wrongMethodRef'],\n",
       " 235: ['blockRemove', 'expArithMod', 'wrongComp'],\n",
       " 236: ['expArithMod', 'initFix', 'wrongComp'],\n",
       " 237: ['constChange', 'expArithMod', 'singleLine'],\n",
       " 238: ['expLogicMod', 'singleLine', 'unwrapMethod'],\n",
       " 239: ['expLogicMod', 'singleLine', 'unwrapMethod'],\n",
       " 240: ['blockRemove', 'condBlockRem', 'wrapsIfElse', 'wrongComp'],\n",
       " 241: ['condBlockExcAdd', 'missComp'],\n",
       " 242: ['copyPaste', 'wrapsMethod'],\n",
       " 243: ['blockRemove', 'condBlockRem', 'wrapsIfElse', 'wrongComp'],\n",
       " 244: ['singleLine', 'wrongMethodRef'],\n",
       " 245: ['expLogicExpand', 'missNullCheckP', 'singleLine'],\n",
       " 246: ['initFix', 'wrapsIf'],\n",
       " 247: ['singleLine', 'wrapsMethod'],\n",
       " 248: ['condBlockOthersAdd', 'expLogicReduce'],\n",
       " 249: ['condBlockRetAdd'],\n",
       " 250: ['condBlockOthersAdd', 'condBlockRetAdd', 'missNullCheckN', 'wrongComp'],\n",
       " 251: ['initFix', 'notClassified'],\n",
       " 252: ['condBlockOthersAdd', 'condBlockRetAdd', 'missNullCheckN', 'wrongComp'],\n",
       " 253: ['missComp', 'wrongMethodRef'],\n",
       " 254: ['singleLine', 'wrapsIf'],\n",
       " 255: ['condBlockOthersAdd', 'condBlockRetAdd', 'missNullCheckN', 'wrongComp'],\n",
       " 256: ['initFix', 'notClassified'],\n",
       " 257: ['wrapsIfElse'],\n",
       " 258: ['condBlockOthersAdd'],\n",
       " 259: ['condBlockOthersAdd', 'condBlockRetAdd', 'wrongComp'],\n",
       " 260: ['singleLine', 'wrapsIfElse'],\n",
       " 261: ['missNullCheckP', 'singleLine', 'wrapsIfElse'],\n",
       " 262: ['initFix', 'notClassified'],\n",
       " 263: ['missNullCheckP', 'singleLine', 'wrapsIfElse']}"
      ]
     },
     "execution_count": 705,
     "metadata": {},
     "output_type": "execute_result"
    }
   ],
   "source": [
    "pattern_dict"
   ]
  },
  {
   "cell_type": "code",
   "execution_count": 706,
   "metadata": {
    "collapsed": true
   },
   "outputs": [],
   "source": [
    "######################### Identify threshold ########################"
   ]
  },
  {
   "cell_type": "code",
   "execution_count": null,
   "metadata": {
    "collapsed": false
   },
   "outputs": [],
   "source": []
  },
  {
   "cell_type": "code",
   "execution_count": 707,
   "metadata": {
    "collapsed": false
   },
   "outputs": [
    {
     "data": {
      "text/plain": [
       "3"
      ]
     },
     "execution_count": 707,
     "metadata": {},
     "output_type": "execute_result"
    }
   ],
   "source": [
    "len(pattern_dict[0])"
   ]
  },
  {
   "cell_type": "code",
   "execution_count": 708,
   "metadata": {
    "collapsed": true
   },
   "outputs": [],
   "source": [
    "thres = []\n",
    "for i in range(264):\n",
    "    thres.append(min(sorted(u.transpose()[i], reverse = True)[:len(pattern_dict[i])]))"
   ]
  },
  {
   "cell_type": "code",
   "execution_count": 710,
   "metadata": {
    "collapsed": false
   },
   "outputs": [
    {
     "data": {
      "text/plain": [
       "63.63636363636363"
      ]
     },
     "execution_count": 710,
     "metadata": {},
     "output_type": "execute_result"
    }
   ],
   "source": [
    "np.sum(np.where(np.asarray(thres) > 0.075, 1, 0)) / 264 * 100"
   ]
  },
  {
   "cell_type": "code",
   "execution_count": 711,
   "metadata": {
    "collapsed": true
   },
   "outputs": [],
   "source": [
    "##################### Cluster analysis based on membership values ########################"
   ]
  },
  {
   "cell_type": "code",
   "execution_count": 712,
   "metadata": {
    "collapsed": false
   },
   "outputs": [
    {
     "data": {
      "text/plain": [
       "array([16.07912292,  8.0480862 ,  1.49853524,  3.23588079,  4.5837508 ,\n",
       "        8.42851493, 14.02803886, 37.16708211, 16.0745177 , 14.0264111 ,\n",
       "        7.43171576,  4.30513324,  1.21229148, 14.02641887,  2.01202605,\n",
       "        1.82742721,  6.08798267,  6.8907527 ,  2.02849359,  5.06422521,\n",
       "        6.10621857, 28.68616615, 13.13867681,  5.42483011, 21.02241509,\n",
       "        7.33205715,  1.39869241,  1.29627361,  5.53826267])"
      ]
     },
     "execution_count": 712,
     "metadata": {},
     "output_type": "execute_result"
    }
   ],
   "source": [
    "sum(u.transpose())"
   ]
  },
  {
   "cell_type": "code",
   "execution_count": 713,
   "metadata": {
    "collapsed": true
   },
   "outputs": [],
   "source": [
    "cluster_pattern_map = {}"
   ]
  },
  {
   "cell_type": "code",
   "execution_count": null,
   "metadata": {
    "collapsed": true
   },
   "outputs": [],
   "source": [
    "for i in range(264):\n",
    "    for j in pattern_dict[i]:\n",
    "        if j in actual_class_cnt:\n",
    "            actual_class_cnt[j] += 1\n",
    "        else:\n",
    "            actual_class_cnt[j] = 1"
   ]
  },
  {
   "cell_type": "code",
   "execution_count": 714,
   "metadata": {
    "collapsed": false
   },
   "outputs": [
    {
     "data": {
      "text/plain": [
       "29"
      ]
     },
     "execution_count": 714,
     "metadata": {},
     "output_type": "execute_result"
    }
   ],
   "source": [
    "len(actual_class_cnt)"
   ]
  },
  {
   "cell_type": "code",
   "execution_count": 715,
   "metadata": {
    "collapsed": true
   },
   "outputs": [
    {
     "data": {
      "text/plain": [
       "{'condBlockOthersAdd': 43,\n",
       " 'missComp': 54,\n",
       " 'missNullCheckN': 14,\n",
       " 'condBlockRetAdd': 52,\n",
       " 'expArithMod': 27,\n",
       " 'singleLine': 81,\n",
       " 'expLogicExpand': 56,\n",
       " 'expLogicMod': 33,\n",
       " 'wrongComp': 38,\n",
       " 'copyPaste': 17,\n",
       " 'initFix': 27,\n",
       " 'blockRemove': 10,\n",
       " 'condBlockRem': 7,\n",
       " 'wrongMethodRef': 13,\n",
       " 'missNullCheckP': 17,\n",
       " 'wrapsMethod': 6,\n",
       " 'wrapsIfElse': 35,\n",
       " 'condBlockExcAdd': 26,\n",
       " 'wrapsIf': 11,\n",
       " 'notClassified': 16,\n",
       " 'codeMove': 2,\n",
       " 'expLogicReduce': 4,\n",
       " 'wrapsLoop': 2,\n",
       " 'fixAPI': 2,\n",
       " 'constChange': 3,\n",
       " 'unwrapIfElse': 3,\n",
       " 'wrongVarRef': 17,\n",
       " 'unwrapMethod': 9,\n",
       " 'wrapsTryCatch': 3}"
      ]
     },
     "execution_count": 715,
     "metadata": {},
     "output_type": "execute_result"
    }
   ],
   "source": [
    "actual_class_cnt"
   ]
  },
  {
   "cell_type": "code",
   "execution_count": 716,
   "metadata": {
    "collapsed": false
   },
   "outputs": [
    {
     "data": {
      "text/plain": [
       "(29, 264)"
      ]
     },
     "execution_count": 716,
     "metadata": {},
     "output_type": "execute_result"
    }
   ],
   "source": [
    "u.shape"
   ]
  },
  {
   "cell_type": "code",
   "execution_count": 722,
   "metadata": {
    "collapsed": true
   },
   "outputs": [
    {
     "data": {
      "text/plain": [
       "['condBlockOthersAdd',\n",
       " 'missComp',\n",
       " 'missNullCheckN',\n",
       " 'condBlockRetAdd',\n",
       " 'expArithMod',\n",
       " 'singleLine',\n",
       " 'expLogicExpand',\n",
       " 'expLogicMod',\n",
       " 'wrongComp',\n",
       " 'copyPaste',\n",
       " 'initFix',\n",
       " 'blockRemove',\n",
       " 'condBlockRem',\n",
       " 'wrongMethodRef',\n",
       " 'missNullCheckP',\n",
       " 'wrapsMethod',\n",
       " 'wrapsIfElse',\n",
       " 'condBlockExcAdd',\n",
       " 'wrapsIf',\n",
       " 'notClassified',\n",
       " 'codeMove',\n",
       " 'expLogicReduce',\n",
       " 'wrapsLoop',\n",
       " 'fixAPI',\n",
       " 'constChange',\n",
       " 'unwrapIfElse',\n",
       " 'wrongVarRef',\n",
       " 'unwrapMethod',\n",
       " 'wrapsTryCatch']"
      ]
     },
     "execution_count": 722,
     "metadata": {},
     "output_type": "execute_result"
    }
   ],
   "source": []
  },
  {
   "cell_type": "code",
   "execution_count": 723,
   "metadata": {
    "collapsed": true
   },
   "outputs": [],
   "source": [
    "repair_pattern_index_map = list(actual_class_cnt.keys())"
   ]
  },
  {
   "cell_type": "code",
   "execution_count": 718,
   "metadata": {
    "collapsed": false
   },
   "outputs": [],
   "source": [
    "cluster_pat = np.zeros((29, 29))"
   ]
  },
  {
   "cell_type": "code",
   "execution_count": 725,
   "metadata": {
    "collapsed": false
   },
   "outputs": [
    {
     "data": {
      "text/plain": [
       "28"
      ]
     },
     "execution_count": 725,
     "metadata": {},
     "output_type": "execute_result"
    }
   ],
   "source": []
  },
  {
   "cell_type": "code",
   "execution_count": 726,
   "metadata": {
    "collapsed": true
   },
   "outputs": [],
   "source": [
    "for i in range(29):\n",
    "    for j in range(264):\n",
    "        for k in pattern_dict[j]:\n",
    "            cluster_pat[i][repair_pattern_index_map.index(k)] += u[i][j]"
   ]
  },
  {
   "cell_type": "code",
   "execution_count": 727,
   "metadata": {
    "collapsed": true
   },
   "outputs": [
    {
     "data": {
      "text/plain": [
       "array([[1.69488916e+00, 3.24681889e+00, 6.26393537e-01, 2.89435221e+00,\n",
       "        1.38323780e+00, 6.10825797e+00, 3.52232986e+00, 1.94721450e+00,\n",
       "        1.86486155e+00, 6.59754169e-01, 1.47222287e+00, 4.87079754e-01,\n",
       "        3.60495949e-01, 1.05581466e+00, 1.00145243e+00, 4.63653299e-01,\n",
       "        1.97518170e+00, 1.23443853e+00, 1.15101569e+00, 1.05751054e+00,\n",
       "        2.44097604e-01, 4.75938822e-01, 1.16462170e-01, 1.60517807e-01,\n",
       "        2.45153761e-01, 1.00184622e-01, 9.48653212e-01, 2.41346160e-01,\n",
       "        4.89828618e-02],\n",
       "       [6.48406037e-01, 2.39092801e+00, 1.61420429e-01, 1.22182045e+00,\n",
       "        1.92904774e+00, 2.26408291e+00, 1.47280230e+00, 4.02553094e-01,\n",
       "        1.73467676e+00, 6.58142470e-01, 1.04305270e+00, 9.76649242e-01,\n",
       "        8.28601524e-02, 5.52125201e-01, 3.64386107e-01, 1.06985158e-01,\n",
       "        3.92684853e-01, 6.06630297e-01, 3.85331211e-01, 6.99830468e-01,\n",
       "        3.68166667e-02, 5.28891984e-02, 5.31236102e-03, 3.73813692e-02,\n",
       "        1.23357169e-02, 5.19072926e-02, 4.03825720e-01, 6.89699908e-02,\n",
       "        2.93614031e-02],\n",
       "       [1.10791039e+00, 1.09784641e+00, 2.56884382e-02, 1.27082232e+00,\n",
       "        3.51364504e-02, 1.26796173e-02, 3.19512080e-02, 3.57873622e-02,\n",
       "        4.36689329e-02, 5.24672233e-02, 3.44948735e-02, 4.13181459e-02,\n",
       "        3.93255035e-02, 1.75280891e-03, 6.55689274e-03, 2.42338678e-03,\n",
       "        1.81093964e-01, 1.53123149e-01, 1.00176334e+00, 1.12628621e-02,\n",
       "        5.28539773e-04, 5.21163274e-04, 1.57065220e-04, 1.42349948e-03,\n",
       "        1.41636555e-04, 6.30465882e-03, 2.74067579e-02, 7.85506244e-03,\n",
       "        1.00769471e-02],\n",
       "       [5.98720126e-01, 4.64457166e-01, 2.18594357e-01, 2.39823294e+00,\n",
       "        7.79250581e-01, 5.80450788e-02, 1.06128830e+00, 9.52491417e-02,\n",
       "        1.08293928e+00, 1.72813512e-01, 1.21833112e+00, 8.27006167e-02,\n",
       "        7.67588035e-02, 5.93684221e-03, 3.47533148e-02, 8.90194210e-03,\n",
       "        3.18840806e-01, 5.94722345e-01, 7.71201165e-03, 3.95703763e-02,\n",
       "        1.43507398e-03, 1.62704224e-03, 4.90117573e-04, 4.30625576e-03,\n",
       "        4.83862826e-04, 1.40190036e-02, 4.60491679e-02, 2.29849163e-02,\n",
       "        4.33193301e-01],\n",
       "       [9.11695446e-01, 7.54172171e-01, 4.25870996e-01, 9.64419111e-01,\n",
       "        3.92580846e-01, 4.22095900e-01, 6.51375699e-01, 4.82530839e-01,\n",
       "        1.65443164e+00, 1.43519858e+00, 5.37283786e-01, 2.28281346e-01,\n",
       "        1.25093385e-01, 7.00465798e-02, 1.56389670e-01, 2.02380310e-01,\n",
       "        6.49012229e-01, 5.07852051e-01, 8.83023216e-02, 2.63727586e-01,\n",
       "        1.82820553e-02, 2.25147479e-02, 9.22485783e-01, 6.49233745e-02,\n",
       "        8.28539836e-03, 1.43647698e-01, 1.09425383e+00, 2.20774213e-01,\n",
       "        9.99961835e-02],\n",
       "       [2.01828007e+00, 1.50200654e+00, 5.76133634e-01, 1.75309811e+00,\n",
       "        7.61408394e-01, 1.33473823e+00, 1.84893926e+00, 1.22090942e+00,\n",
       "        1.29276476e+00, 7.59730526e-01, 1.14231217e+00, 3.29587916e-01,\n",
       "        2.71475066e-01, 3.02373478e-01, 3.90253568e-01, 2.22615211e-01,\n",
       "        2.10010685e+00, 1.09066088e+00, 6.52284264e-01, 5.26000226e-01,\n",
       "        3.25568173e-02, 5.44606907e-02, 1.64202311e-02, 3.82776451e-02,\n",
       "        2.21868942e-02, 9.56306564e-02, 2.12307112e-01, 2.00926514e-01,\n",
       "        1.64034057e-01],\n",
       "       [2.07304986e+00, 2.68927737e+00, 7.45191056e-01, 2.62033865e+00,\n",
       "        1.04478013e+00, 4.14663170e+00, 3.14902313e+00, 1.74917041e+00,\n",
       "        1.58180358e+00, 6.61947570e-01, 1.37306041e+00, 4.87409179e-01,\n",
       "        3.75840200e-01, 9.01674173e-01, 8.92333976e-01, 4.93348026e-01,\n",
       "        2.21463424e+00, 1.48929586e+00, 6.83854593e-01, 7.77529753e-01,\n",
       "        1.58327414e-01, 3.11259865e-01, 1.85906439e-01, 1.02251387e-01,\n",
       "        1.71209740e-01, 1.23754156e-01, 6.32418347e-01, 2.43236135e-01,\n",
       "        5.88728472e-02],\n",
       "       [1.99171237e+00, 6.63456077e+00, 8.00616237e-01, 3.74229828e+00,\n",
       "        6.00268282e+00, 2.25395496e+01, 5.05282505e+00, 4.70901855e+00,\n",
       "        2.78026016e+00, 6.00380764e-01, 3.28126735e+00, 7.94168020e-01,\n",
       "        6.68656711e-01, 1.92703884e+00, 3.31263678e+00, 7.17756758e-01,\n",
       "        4.08855204e+00, 2.25974553e+00, 6.59974973e-01, 2.40759956e+00,\n",
       "        2.18599124e-01, 5.49974699e-01, 2.29971115e-02, 1.77013836e-01,\n",
       "        1.35447620e+00, 1.05675818e+00, 4.45561070e+00, 3.13047699e+00,\n",
       "        3.57385791e-02],\n",
       "       [1.69561151e+00, 3.24555529e+00, 6.26603834e-01, 2.89353444e+00,\n",
       "        1.38283006e+00, 6.10407231e+00, 3.52139511e+00, 1.94721183e+00,\n",
       "        1.86456791e+00, 6.59726036e-01, 1.47151527e+00, 4.86994231e-01,\n",
       "        3.60400878e-01, 1.05571622e+00, 1.00088813e+00, 4.63832209e-01,\n",
       "        1.97498762e+00, 1.23474066e+00, 1.15013920e+00, 1.05687659e+00,\n",
       "        2.43919791e-01, 4.75535595e-01, 1.16706639e-01, 1.60386526e-01,\n",
       "        2.44958607e-01, 1.00251547e-01, 9.47967640e-01, 2.41400430e-01,\n",
       "        4.90031545e-02],\n",
       "       [2.07324526e+00, 2.68876661e+00, 7.45197086e-01, 2.62026714e+00,\n",
       "        1.04441335e+00, 4.14521862e+00, 3.14883057e+00, 1.74904653e+00,\n",
       "        1.58159872e+00, 6.61943466e-01, 1.37299560e+00, 4.87446735e-01,\n",
       "        3.75906009e-01, 9.01396070e-01, 8.92314871e-01, 4.93152380e-01,\n",
       "        2.21504863e+00, 1.48947830e+00, 6.83558957e-01, 7.77354655e-01,\n",
       "        1.58261500e-01, 3.11108906e-01, 1.85771834e-01, 1.02206514e-01,\n",
       "        1.71095334e-01, 1.23753152e-01, 6.32141956e-01, 2.43174910e-01,\n",
       "        5.88807474e-02],\n",
       "       [1.97862276e+00, 2.00245531e+00, 1.20974432e+00, 1.77413784e+00,\n",
       "        6.34721788e-01, 8.08444619e-01, 1.06031723e+00, 7.31653854e-01,\n",
       "        1.39861204e+00, 7.68662639e-01, 6.63199013e-01, 4.40606847e-01,\n",
       "        4.03619163e-01, 9.84887625e-02, 3.95314254e-01, 1.35655032e-01,\n",
       "        1.19563246e+00, 8.87689606e-01, 2.00028682e-01, 1.14535817e+00,\n",
       "        1.45802145e-02, 2.07072684e-02, 7.38264949e-03, 2.50685191e-02,\n",
       "        7.45308257e-03, 6.25945824e-02, 1.39193267e-01, 2.05363565e-01,\n",
       "        2.92892056e-01],\n",
       "       [2.79173761e+00, 1.80756748e+00, 1.16745347e+00, 1.84810929e+00,\n",
       "        2.86119019e-01, 1.40721525e-01, 9.61873007e-01, 1.73466196e-01,\n",
       "        2.01322749e+00, 3.02385529e-01, 6.00872483e-01, 1.33140925e-01,\n",
       "        1.22764328e-01, 1.00053810e-02, 8.07971435e-02, 1.69591534e-02,\n",
       "        4.72359568e-01, 4.78028457e-01, 1.30731999e-02, 7.61585933e-02,\n",
       "        2.27731416e-03, 2.67786178e-03, 9.56259502e-04, 7.60145544e-03,\n",
       "        8.32542227e-04, 2.24362520e-02, 6.20933184e-02, 4.14571304e-02,\n",
       "        2.73679346e-01],\n",
       "       [1.19756619e-02, 9.40992744e-03, 2.66889196e-03, 1.79026006e-01,\n",
       "        6.87397126e-03, 1.67604655e-03, 3.37474575e-03, 6.43542196e-03,\n",
       "        7.37834297e-03, 4.92002000e-03, 4.70965791e-03, 5.25751351e-03,\n",
       "        4.91666784e-03, 2.73576538e-04, 1.31488156e-03, 3.48950170e-04,\n",
       "        2.12284715e-02, 1.01187897e+00, 3.52307723e-04, 1.35691517e-03,\n",
       "        8.03445956e-05, 8.27739498e-05, 2.02245355e-05, 2.39409966e-04,\n",
       "        2.22367974e-05, 8.48820358e-04, 5.99270429e-03, 1.03449521e-03,\n",
       "        8.06580147e-04],\n",
       "       [2.07324433e+00, 2.68876905e+00, 7.45197059e-01, 2.62026748e+00,\n",
       "        1.04441510e+00, 4.14522536e+00, 3.14883149e+00, 1.74904713e+00,\n",
       "        1.58159970e+00, 6.61943485e-01, 1.37299591e+00, 4.87446556e-01,\n",
       "        3.75905695e-01, 9.01397397e-01, 8.92314964e-01, 4.93153314e-01,\n",
       "        2.21504665e+00, 1.48947743e+00, 6.83560367e-01, 7.77355490e-01,\n",
       "        1.58261815e-01, 3.11109626e-01, 1.85772477e-01, 1.02206728e-01,\n",
       "        1.71095879e-01, 1.23753157e-01, 6.32143274e-01, 2.43175203e-01,\n",
       "        5.88807097e-02],\n",
       "       [8.81387803e-01, 1.28088705e-02, 3.21297001e-03, 1.79065475e-02,\n",
       "        8.78521663e-01, 2.31295350e-03, 4.20562549e-03, 9.23822828e-01,\n",
       "        8.77740097e-01, 7.11363778e-03, 9.19275719e-01, 8.73879575e-01,\n",
       "        8.73123908e-01, 4.09963009e-04, 1.12075118e-03, 5.79014634e-04,\n",
       "        1.92360400e-01, 1.18334601e-02, 5.11583121e-04, 2.07884793e-03,\n",
       "        1.21003145e-04, 1.23651146e-04, 3.38422064e-05, 5.30310874e-04,\n",
       "        3.44145593e-05, 2.00588374e-03, 8.77085982e-01, 2.23731948e-03,\n",
       "        8.31781461e-04],\n",
       "       [2.07254904e-01, 1.20027134e+00, 5.76245196e-02, 2.86466523e-01,\n",
       "        1.22237422e-01, 1.02679629e+00, 6.40768885e-02, 1.28104056e-01,\n",
       "        8.82778377e-02, 1.74771390e-01, 8.02408695e-02, 7.42268276e-02,\n",
       "        6.88246934e-02, 4.16757295e-03, 1.48593030e-02, 6.49113149e-03,\n",
       "        3.83001952e-01, 2.46452316e-01, 6.66391146e-03, 3.04302517e-02,\n",
       "        1.25393546e-03, 1.27990628e-03, 5.37549465e-04, 3.88181000e-03,\n",
       "        3.48291841e-04, 2.78536945e-02, 1.08526796e-01, 3.14812447e-02,\n",
       "        1.50761956e-02],\n",
       "       [9.99698409e-01, 7.61009677e-01, 6.13927185e-01, 1.04659360e+00,\n",
       "        4.98914201e-01, 1.57707522e+00, 8.20079095e-01, 1.55207933e+00,\n",
       "        1.27950783e+00, 9.23657037e-01, 9.12875228e-01, 2.98538758e-01,\n",
       "        1.34864574e-01, 1.26736437e-01, 2.32984793e-01, 6.81920352e-01,\n",
       "        6.59639794e-01, 6.95990381e-01, 1.19324918e-01, 6.47459690e-01,\n",
       "        2.07559291e-02, 2.87403336e-02, 1.36053062e-02, 1.02103287e-01,\n",
       "        2.38890040e-02, 2.08732498e-01, 1.80970675e-01, 1.19536702e+00,\n",
       "        1.72187139e-01],\n",
       "       [1.34204432e+00, 1.23604934e+00, 5.16642819e-01, 2.64363754e+00,\n",
       "        4.35138403e-01, 7.39850041e-01, 2.52432217e+00, 9.52307390e-01,\n",
       "        7.59309828e-01, 6.28141316e-01, 6.44494049e-01, 1.96820717e-01,\n",
       "        1.44588574e-01, 1.41571993e-01, 3.26141863e-01, 1.59950666e-01,\n",
       "        1.17417471e+00, 8.09172646e-01, 4.19219151e-01, 3.30379010e-01,\n",
       "        2.86477785e-02, 3.77443647e-02, 1.50298086e-02, 3.39647312e-02,\n",
       "        1.23429690e-02, 8.07235963e-02, 1.68824336e-01, 1.73128560e-01,\n",
       "        9.79933107e-02],\n",
       "       [1.34736490e+00, 3.43115144e-01, 9.05154040e-02, 2.95745107e-01,\n",
       "        1.20685475e-01, 4.45391961e-02, 9.28699436e-02, 1.32025906e-01,\n",
       "        1.31547710e-01, 1.82964421e-01, 1.18635708e-01, 1.41412859e-01,\n",
       "        1.33718066e-01, 5.67194151e-03, 2.17052042e-02, 9.50448534e-03,\n",
       "        3.48153753e-01, 2.49322199e-01, 9.13466029e-03, 4.67296692e-02,\n",
       "        1.71192299e-03, 1.65039897e-03, 7.90359476e-04, 5.61693991e-03,\n",
       "        4.91572829e-04, 3.53499511e-02, 9.99671622e-02, 4.08861851e-02,\n",
       "        2.63739435e-02],\n",
       "       [1.39695613e+00, 1.71473308e+00, 4.45452356e-01, 1.10140634e+00,\n",
       "        2.46823156e-01, 3.74377178e-01, 6.14240886e-01, 4.36965730e-01,\n",
       "        5.85025598e-01, 8.44867677e-01, 4.42556363e-01, 1.34781331e-01,\n",
       "        1.08330130e-01, 4.13985073e-02, 2.93614642e-01, 6.75911115e-02,\n",
       "        1.46845636e+00, 9.66172611e-01, 7.09297889e-02, 2.60482449e-01,\n",
       "        8.72577836e-03, 1.08676587e-02, 4.86062662e-03, 1.84266357e-02,\n",
       "        3.34046959e-03, 5.99506258e-02, 1.19850442e-01, 1.48516667e-01,\n",
       "        9.51276120e-02],\n",
       "       [7.99883036e-01, 1.63564583e+00, 1.07133029e-01, 1.91449347e+00,\n",
       "        1.39707162e+00, 1.40385219e-01, 1.04314841e+00, 1.67174659e-01,\n",
       "        2.35711338e+00, 1.42356758e-01, 9.04987585e-01, 1.17990876e+00,\n",
       "        6.24121306e-01, 2.79105703e-02, 9.20186797e-01, 8.21275650e-02,\n",
       "        8.23386813e-01, 9.38469089e-01, 2.47996611e-02, 1.00667305e+00,\n",
       "        7.38697000e-03, 8.77696370e-03, 2.99391089e-03, 4.57004835e-01,\n",
       "        3.70050652e-03, 5.82660144e-02, 9.74271279e-02, 7.67246275e-02,\n",
       "        3.41027800e-01],\n",
       "       [1.06401342e+00, 2.45290303e+00, 3.90966638e-01, 4.09950079e+00,\n",
       "        2.16087705e+00, 1.43850196e+01, 1.27372299e+01, 5.16121156e+00,\n",
       "        2.03526097e+00, 1.45392386e+00, 1.99867861e+00, 3.85344455e-01,\n",
       "        2.87368993e-01, 1.18431803e+00, 1.72088203e+00, 2.79740569e-01,\n",
       "        2.41069790e+00, 1.79134985e+00, 4.74621354e-01, 8.78011631e-01,\n",
       "        4.25589153e-01, 9.28640175e-01, 3.72979520e-02, 1.72678703e-01,\n",
       "        3.13494577e-01, 5.91699285e-02, 2.66677806e+00, 7.22195437e-01,\n",
       "        3.49760911e-02],\n",
       "       [1.44493657e+00, 3.06592326e+00, 5.72145475e-01, 1.57937516e+00,\n",
       "        1.51267285e+00, 3.39915530e+00, 1.98185742e+00, 1.36296628e+00,\n",
       "        2.62484092e+00, 1.48073075e+00, 1.97258023e+00, 2.59660206e-01,\n",
       "        1.85431047e-01, 8.18028951e-01, 3.67617047e-01, 2.78933239e-01,\n",
       "        1.55631676e+00, 1.84637909e+00, 1.14127863e+00, 7.64876557e-01,\n",
       "        4.88833293e-02, 8.44398993e-02, 3.69160816e-02, 5.23084877e-02,\n",
       "        7.00962817e-02, 1.47111942e-01, 1.09363192e+00, 2.01170807e-01,\n",
       "        9.77034098e-02],\n",
       "       [1.92255635e+00, 8.47979363e-01, 3.77570916e-01, 7.91367361e-01,\n",
       "        2.72715684e-01, 3.03575744e-01, 6.31520005e-01, 5.15928280e-01,\n",
       "        3.79381395e-01, 8.30303085e-01, 4.95869522e-01, 1.25843025e-01,\n",
       "        8.93041795e-02, 5.45672562e-02, 9.42777779e-02, 7.26012091e-02,\n",
       "        1.43544365e+00, 4.70791430e-01, 5.88307712e-01, 2.04687432e-01,\n",
       "        1.84847718e-02, 1.79948073e-02, 6.26289791e-03, 2.26029571e-02,\n",
       "        5.69932097e-03, 8.45718070e-02, 1.77473708e-01, 1.04361272e-01,\n",
       "        4.16579899e-02],\n",
       "       [4.37810857e+00, 4.46517903e+00, 8.96487689e-01, 4.70886177e+00,\n",
       "        9.01579201e-01, 5.34538628e+00, 5.25032915e+00, 2.26370240e+00,\n",
       "        1.84992592e+00, 5.28063147e-01, 1.37631248e+00, 4.61681657e-01,\n",
       "        3.70839382e-01, 1.69345347e+00, 8.39947853e-01, 3.51896312e-01,\n",
       "        3.01663425e+00, 1.79875544e+00, 6.00572773e-01, 1.55494656e+00,\n",
       "        1.32783765e-01, 2.65595341e-01, 1.06623046e-01, 1.01797862e-01,\n",
       "        1.47388657e-01, 1.03879568e-01, 8.95996503e-01, 5.79775613e-01,\n",
       "        5.44676358e-02],\n",
       "       [2.11467136e+00, 2.11780002e+00, 6.49467571e-01, 2.52606649e+00,\n",
       "        4.29414264e-01, 8.26464820e-01, 8.02382562e-01, 1.20311208e+00,\n",
       "        2.18733991e+00, 6.66291408e-01, 6.83101166e-01, 1.88651393e-01,\n",
       "        1.51923553e-01, 8.27042755e-02, 1.13326985e+00, 1.23085118e-01,\n",
       "        7.34579986e-01, 1.00915546e+00, 1.32979940e-01, 3.98735219e-01,\n",
       "        1.10601991e-02, 1.53920548e-02, 5.04724238e-03, 2.54428489e-02,\n",
       "        6.48212486e-03, 5.64292434e-02, 1.20342131e-01, 4.34840571e-01,\n",
       "        2.55432686e-01],\n",
       "       [1.02056616e+00, 1.01598104e+00, 5.98723485e-03, 3.33748598e-01,\n",
       "        1.47212378e-02, 3.51836832e-03, 7.34019188e-03, 1.38002020e-02,\n",
       "        1.54607010e-02, 1.34631301e-02, 1.00076084e-02, 1.12248623e-02,\n",
       "        1.05414497e-02, 5.51183676e-04, 9.97224923e-01, 7.30652138e-04,\n",
       "        6.28681850e-02, 4.49912449e-02, 7.39409553e-04, 3.01392231e-03,\n",
       "        1.57261104e-04, 1.67118163e-04, 4.36200925e-05, 4.81998179e-04,\n",
       "        4.41310556e-05, 2.05367671e-03, 1.28342912e-02, 2.46077983e-03,\n",
       "        1.93593378e-03],\n",
       "       [8.04069520e-02, 5.06947570e-02, 1.11320138e-02, 5.95824831e-02,\n",
       "        1.04874182e+00, 6.49563981e-03, 1.21548915e-02, 3.11151284e-02,\n",
       "        1.05223811e+00, 1.91225906e-02, 2.62104465e-02, 5.43553092e-02,\n",
       "        5.20714050e-02, 1.00085716e+00, 3.34853279e-03, 1.68681797e-03,\n",
       "        1.33685060e-01, 3.53613186e-02, 1.29034037e-03, 6.29056738e-03,\n",
       "        2.99540831e-04, 3.19872783e-04, 9.74081092e-05, 1.70939938e-03,\n",
       "        9.50107206e-05, 4.69698632e-03, 4.43584024e-02, 5.49474726e-03,\n",
       "        3.05477687e-03],\n",
       "       [2.33105052e+00, 1.85731524e+00, 1.18496084e+00, 1.79452394e+00,\n",
       "        2.32387897e-01, 5.93608671e-01, 7.79085905e-01, 1.15638989e+00,\n",
       "        1.29463894e+00, 1.04421380e+00, 8.25861213e-01, 1.45583233e-01,\n",
       "        1.20930227e-01, 3.36127023e-02, 6.11111660e-01, 6.19966260e-02,\n",
       "        5.86190355e-01, 5.58041399e-01, 4.86750429e-02, 2.47713367e-01,\n",
       "        6.11438920e-03, 7.85919356e-03, 3.01898597e-03, 1.76448670e-02,\n",
       "        2.82177686e-03, 4.33608033e-02, 9.58754464e-02, 1.69183432e-01,\n",
       "        1.47754921e-01]])"
      ]
     },
     "execution_count": 727,
     "metadata": {},
     "output_type": "execute_result"
    }
   ],
   "source": [
    "cluster_pat"
   ]
  },
  {
   "cell_type": "code",
   "execution_count": 732,
   "metadata": {
    "collapsed": true
   },
   "outputs": [
    {
     "name": "stdout",
     "output_type": "stream",
     "text": [
      "5\n",
      "1\n",
      "3\n",
      "3\n",
      "8\n",
      "16\n",
      "5\n",
      "5\n",
      "5\n",
      "5\n",
      "1\n",
      "0\n",
      "17\n",
      "5\n",
      "7\n",
      "1\n",
      "5\n",
      "3\n",
      "0\n",
      "1\n",
      "8\n",
      "5\n",
      "5\n",
      "0\n",
      "5\n",
      "3\n",
      "0\n",
      "8\n",
      "0\n"
     ]
    }
   ],
   "source": [
    "for i in range(29):\n",
    "    print(np.argmax(cluster_pat[i, :]))"
   ]
  },
  {
   "cell_type": "code",
   "execution_count": 735,
   "metadata": {
    "collapsed": true
   },
   "outputs": [
    {
     "name": "stdout",
     "output_type": "stream",
     "text": [
      "[5]\n",
      "[1]\n",
      "[3]\n",
      "[3]\n",
      "[8]\n",
      "[16]\n",
      "[5]\n",
      "[5]\n",
      "[5]\n",
      "[5]\n",
      "[1]\n",
      "[0]\n",
      "[17]\n",
      "[5]\n",
      "[7]\n",
      "[1]\n",
      "[5]\n",
      "[3]\n",
      "[0]\n",
      "[1]\n",
      "[8]\n",
      "[5]\n",
      "[5]\n",
      "[0]\n",
      "[5]\n",
      "[3]\n",
      "[0]\n",
      "[8]\n",
      "[0]\n"
     ]
    }
   ],
   "source": [
    "for i in range(29):\n",
    "    print(cluster_pat[i, :].argsort()[-1:])"
   ]
  },
  {
   "cell_type": "code",
   "execution_count": 739,
   "metadata": {
    "collapsed": false
   },
   "outputs": [
    {
     "name": "stdout",
     "output_type": "stream",
     "text": [
      "3.5223298648576753\n",
      "2.264082911976724\n",
      "1.107910391937508\n",
      "1.2183311182044891\n",
      "1.4351985830890164\n",
      "2.018280074967094\n",
      "3.1490231289301804\n",
      "6.63456076597596\n",
      "3.521395111733092\n",
      "3.1488305747285694\n",
      "1.9786227576055049\n",
      "2.0132274863449107\n",
      "0.1790260062289473\n",
      "3.148831494635413\n",
      "0.919275718626826\n",
      "1.0267962881418373\n",
      "1.552079325822692\n",
      "2.5243221729199656\n",
      "0.3481537528775484\n",
      "1.4684563577566\n",
      "1.9144934711314754\n",
      "12.737229876864411\n",
      "3.0659232632487567\n",
      "1.435443648464546\n",
      "5.25032915259512\n",
      "2.1873399125307857\n",
      "1.0159810365704438\n",
      "1.048741815066935\n",
      "1.8573152417153447\n"
     ]
    }
   ],
   "source": [
    "for i in range(29):\n",
    "    print(min(sorted(cluster_pat[i, :], reverse = True)[:2]))"
   ]
  },
  {
   "cell_type": "code",
   "execution_count": null,
   "metadata": {
    "collapsed": true
   },
   "outputs": [],
   "source": []
  }
 ],
 "metadata": {
  "kernelspec": {
   "display_name": "Python [conda env:py36]",
   "language": "python",
   "name": "conda-env-py36-py"
  },
  "language_info": {
   "codemirror_mode": {
    "name": "ipython",
    "version": 3
   },
   "file_extension": ".py",
   "mimetype": "text/x-python",
   "name": "python",
   "nbconvert_exporter": "python",
   "pygments_lexer": "ipython3",
   "version": "3.6.7"
  }
 },
 "nbformat": 4,
 "nbformat_minor": 1
}
