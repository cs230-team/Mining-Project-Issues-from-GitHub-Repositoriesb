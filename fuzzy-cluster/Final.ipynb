{
 "cells": [
  {
   "cell_type": "code",
   "execution_count": 174,
   "metadata": {
    "collapsed": true
   },
   "outputs": [],
   "source": [
    "import skfuzzy as fuzz\n",
    "import numpy as np\n",
    "import matplotlib.pyplot as plt\n",
    "import json\n",
    "import pandas as pd"
   ]
  },
  {
   "cell_type": "code",
   "execution_count": 2,
   "metadata": {
    "collapsed": false
   },
   "outputs": [
    {
     "data": {
      "text/plain": [
       "(48, 264)"
      ]
     },
     "execution_count": 2,
     "metadata": {},
     "output_type": "execute_result"
    }
   ],
   "source": [
    "my_data = np.genfromtxt('dataset/mat_csv.csv', delimiter=',')\n",
    "my_data.shape"
   ]
  },
  {
   "cell_type": "code",
   "execution_count": 106,
   "metadata": {
    "collapsed": false
   },
   "outputs": [
    {
     "data": {
      "text/plain": [
       "array([1. , 1.1, 1.2, 1.3, 1.4, 1.5, 1.6, 1.7, 1.8, 1.9, 2. , 2.1, 2.2,\n",
       "       2.3, 2.4, 2.5, 2.6])"
      ]
     },
     "execution_count": 106,
     "metadata": {},
     "output_type": "execute_result"
    }
   ],
   "source": [
    "np.linspace(1, 2.6, 17)"
   ]
  },
  {
   "cell_type": "code",
   "execution_count": 107,
   "metadata": {
    "collapsed": false
   },
   "outputs": [
    {
     "name": "stdout",
     "output_type": "stream",
     "text": [
      "12\n",
      "15\n",
      "18\n",
      "21\n",
      "24\n",
      "27\n",
      "30\n",
      "33\n",
      "36\n",
      "39\n",
      "42\n",
      "45\n",
      "48\n"
     ]
    }
   ],
   "source": [
    "##### Find the best exponentiation value\n",
    "clusters_num = [i for i in range(10, 50)]\n",
    "fpcs_vals = {}\n",
    "m_vals = np.linspace(1, 2.6, 17)\n",
    "for cluster in clusters_num:\n",
    "    fpcs_val = []\n",
    "    for m_val in m_vals:\n",
    "        cntr, u, u_0, d, jm, p, fpc = fuzz.cmeans(my_data, cluster, m_val, error = 0.0001, maxiter = 10000)\n",
    "        #fpcs.append(fpc)\n",
    "        fpcs_val.append(fpc)\n",
    "    fpcs_vals[cluster] = fpcs_val\n",
    "    if(cluster % 3 == 0):\n",
    "        print(cluster)"
   ]
  },
  {
   "cell_type": "code",
   "execution_count": 666,
   "metadata": {
    "collapsed": true
   },
   "outputs": [
    {
     "name": "stdout",
     "output_type": "stream",
     "text": [
      "* 1 39\n",
      "* 2 0\n",
      "* 3 0\n",
      "* 4 0\n",
      "* 5 0\n",
      "* 6 0\n",
      "* 7 0\n",
      "* 8 0\n",
      "* 9 0\n",
      "* 10 0\n",
      "* 11 0\n",
      "* 12 0\n",
      "* 13 0\n",
      "* 14 0\n",
      "* 15 0\n",
      "* 16 0\n"
     ]
    }
   ],
   "source": [
    "##### Find the best m val\n",
    "for i in range(1, 17):\n",
    "    max_val_cnt = 0\n",
    "    for j in range(10, 50):\n",
    "        max_val_cnt += 1 if fpcs_vals[j][i] > 0.95 else 0\n",
    "        #max_val_cnt += sum(np.where(fpcs_vals[:][i] > 0.9, 1, 0))\n",
    "    print(\"* \" + str(i) + \" \" + str(max_val_cnt))"
   ]
  },
  {
   "cell_type": "code",
   "execution_count": 671,
   "metadata": {
    "collapsed": false
   },
   "outputs": [],
   "source": [
    "fpcs_final = []\n",
    "for cluster in clusters_num:\n",
    "    cntr, u, u_0, d, jm, p, fpc = fuzz.cmeans(my_data, cluster, 1.1, error = 0.0001, maxiter = 10000)\n",
    "    fpcs_final.append(fpc)"
   ]
  },
  {
   "cell_type": "code",
   "execution_count": 673,
   "metadata": {
    "collapsed": false
   },
   "outputs": [
    {
     "data": {
      "text/plain": [
       "40"
      ]
     },
     "execution_count": 673,
     "metadata": {},
     "output_type": "execute_result"
    }
   ],
   "source": [
    "len(fpcs_final)"
   ]
  },
  {
   "cell_type": "code",
   "execution_count": 679,
   "metadata": {
    "collapsed": false
   },
   "outputs": [
    {
     "data": {
      "image/png": "[encoded data removed]",
      "text/plain": [
       "<Figure size 432x288 with 1 Axes>"
      ]
     },
     "metadata": {
      "needs_background": "light"
     },
     "output_type": "display_data"
    }
   ],
   "source": [
    "plt.figure()\n",
    "x = [i for i in range(10, 50)]\n",
    "y = []\n",
    "for i in range(40):\n",
    "    y.append(fpcs_final[i])\n",
    "plt.scatter(x, y)\n",
    "plt.xlabel('Number of clusters')\n",
    "plt.ylabel('FPC values')\n",
    "#plt.title('Fuzzy Partition Coefficient values for different cluster numbers')\n",
    "plt.show()"
   ]
  },
  {
   "cell_type": "code",
   "execution_count": 676,
   "metadata": {
    "collapsed": false
   },
   "outputs": [
    {
     "data": {
      "text/plain": [
       "4"
      ]
     },
     "execution_count": 676,
     "metadata": {},
     "output_type": "execute_result"
    }
   ],
   "source": [
    "np.argmax(np.asarray(fpcs_final))"
   ]
  },
  {
   "cell_type": "code",
   "execution_count": 680,
   "metadata": {
    "collapsed": false
   },
   "outputs": [
    {
     "data": {
      "text/plain": [
       "0.9793190063625528"
      ]
     },
     "execution_count": 680,
     "metadata": {},
     "output_type": "execute_result"
    }
   ],
   "source": [
    "max(fpcs_final)"
   ]
  },
  {
   "cell_type": "code",
   "execution_count": 651,
   "metadata": {
    "collapsed": false
   },
   "outputs": [
    {
     "data": {
      "text/plain": [
       "[1.0,\n",
       " 0.9764180036508494,\n",
       " 0.8777696375512017,\n",
       " 0.8019794133575253,\n",
       " 0.7001293593010971,\n",
       " 0.5338894866362405,\n",
       " 0.4927716041058199,\n",
       " 0.4055824015164029,\n",
       " 0.3528000576196446,\n",
       " 0.3137709446599264,\n",
       " 0.2743894082820673,\n",
       " 0.2582300015885808,\n",
       " 0.23773676085047118,\n",
       " 0.22068431007121014,\n",
       " 0.2125280494764404,\n",
       " 0.2041324804062378,\n",
       " 0.20030211814949794]"
      ]
     },
     "execution_count": 651,
     "metadata": {},
     "output_type": "execute_result"
    }
   ],
   "source": [
    "fpcs_vals[14]"
   ]
  },
  {
   "cell_type": "code",
   "execution_count": 127,
   "metadata": {
    "collapsed": false
   },
   "outputs": [
    {
     "data": {
      "text/plain": [
       "array([0.5, 0.6, 0.7, 0.8, 0.9, 1. , 1.1, 1.2, 1.3, 1.4, 1.5, 1.6])"
      ]
     },
     "execution_count": 127,
     "metadata": {},
     "output_type": "execute_result"
    }
   ],
   "source": [
    "np.linspace(0.5, 1.6, 12)"
   ]
  },
  {
   "cell_type": "code",
   "execution_count": 130,
   "metadata": {
    "collapsed": false
   },
   "outputs": [],
   "source": [
    "m_vals = np.linspace(0.5, 1.6, 12)\n",
    "fpc_val1 = []\n",
    "for m_val in m_vals:\n",
    "    cntr, u, u_0, d, jm, p, fpc = fuzz.cmeans(my_data, 15, m_val, error = 0.0001, maxiter = 10000)\n",
    "    #fpcs.append(fpc)\n",
    "    fpc_val1.append(fpc)"
   ]
  },
  {
   "cell_type": "code",
   "execution_count": 131,
   "metadata": {
    "collapsed": false
   },
   "outputs": [
    {
     "data": {
      "text/plain": [
       "[0.0941825632594516,\n",
       " 0.11483446292928791,\n",
       " 0.1357391441508072,\n",
       " 0.16002462087395383,\n",
       " 0.22219400641746298,\n",
       " 0.96875,\n",
       " 0.9587923143277294,\n",
       " 0.9173384639086127,\n",
       " 0.782660292191768,\n",
       " 0.7068804498292915,\n",
       " 0.5741244066536922,\n",
       " 0.4647551879290406]"
      ]
     },
     "execution_count": 131,
     "metadata": {},
     "output_type": "execute_result"
    }
   ],
   "source": [
    "fpc_val1"
   ]
  },
  {
   "cell_type": "code",
   "execution_count": 132,
   "metadata": {
    "collapsed": false
   },
   "outputs": [],
   "source": [
    "m_vals = np.linspace(0.5, 1.6, 12)\n",
    "fpc_val1 = []\n",
    "for m_val in m_vals:\n",
    "    cntr, u, u_0, d, jm, p, fpc = fuzz.cmeans(my_data, 14, m_val, error = 0.0001, maxiter = 10000)\n",
    "    #fpcs.append(fpc)\n",
    "    fpc_val1.append(fpc)"
   ]
  },
  {
   "cell_type": "code",
   "execution_count": 133,
   "metadata": {
    "collapsed": false
   },
   "outputs": [
    {
     "data": {
      "text/plain": [
       "[0.11128252188634746,\n",
       " 0.12869200273244782,\n",
       " 0.1373299948725613,\n",
       " 0.1407535870795508,\n",
       " 0.22891772932288978,\n",
       " 0.9873737373737375,\n",
       " 0.9575856367986249,\n",
       " 0.8692811587051104,\n",
       " 0.7687790318026997,\n",
       " 0.7274170420245583,\n",
       " 0.5546448830277014,\n",
       " 0.4648801400320831]"
      ]
     },
     "execution_count": 133,
     "metadata": {},
     "output_type": "execute_result"
    }
   ],
   "source": [
    "fpc_val1"
   ]
  },
  {
   "cell_type": "code",
   "execution_count": 631,
   "metadata": {
    "collapsed": true
   },
   "outputs": [],
   "source": [
    "cnum = 17"
   ]
  },
  {
   "cell_type": "code",
   "execution_count": 632,
   "metadata": {
    "collapsed": false
   },
   "outputs": [],
   "source": [
    "cntr, u, u_0, d, jm, p, fpc = fuzz.cmeans(my_data, cnum, 1.1, error = 0.0001, maxiter = 10000)"
   ]
  },
  {
   "cell_type": "code",
   "execution_count": 633,
   "metadata": {
    "collapsed": false
   },
   "outputs": [],
   "source": [
    "#take top 3 clusters that each prog belongs to"
   ]
  },
  {
   "cell_type": "code",
   "execution_count": 634,
   "metadata": {
    "collapsed": false
   },
   "outputs": [],
   "source": [
    "clust_dict = {}\n",
    "for i in range(264):\n",
    "    #top_3 = u[np.argsort(u[:, i])[-5:], i]\n",
    "    #top_3_arg = np.argsort(u[:, i])[-5:]\n",
    "    sorted_mem = u[np.argsort(u[:, i])[::-1]][:, i]\n",
    "    sorted_arg = np.argsort(u[:, i])[::-1]\n",
    "    #print(top_3)\n",
    "    for j in range(cnum):\n",
    "        #print(top_3[j])\n",
    "        if sorted_mem[j] > 0.7:\n",
    "            #print(top_3_arg[j])\n",
    "            if sorted_arg[j] in clust_dict:\n",
    "                    clust_dict[sorted_arg[j]].append(i)\n",
    "            else:\n",
    "                clust_dict[sorted_arg[j]] = [i]"
   ]
  },
  {
   "cell_type": "code",
   "execution_count": 635,
   "metadata": {
    "collapsed": false
   },
   "outputs": [
    {
     "data": {
      "text/plain": [
       "0.058823529411764705"
      ]
     },
     "execution_count": 635,
     "metadata": {},
     "output_type": "execute_result"
    }
   ],
   "source": [
    "1/cnum"
   ]
  },
  {
   "cell_type": "code",
   "execution_count": 636,
   "metadata": {
    "collapsed": true
   },
   "outputs": [],
   "source": [
    "############## Analysis ####################"
   ]
  },
  {
   "cell_type": "code",
   "execution_count": 637,
   "metadata": {
    "collapsed": true
   },
   "outputs": [],
   "source": [
    "i = 0\n",
    "text_file = open(\"dataset/filenames_1.txt\", \"r\")\n",
    "lines = [line.rstrip('\\n') for line in text_file.readlines()]\n",
    "text_file.close()"
   ]
  },
  {
   "cell_type": "code",
   "execution_count": 638,
   "metadata": {
    "collapsed": true
   },
   "outputs": [],
   "source": [
    "pattern_data = json.load(open('dataset/pattern.json', encoding=\"utf8\"))    "
   ]
  },
  {
   "cell_type": "code",
   "execution_count": 639,
   "metadata": {
    "collapsed": true
   },
   "outputs": [],
   "source": [
    "for i in range(len(lines)):\n",
    "    lines[i] = lines[i].replace(\"#\", \"/\")"
   ]
  },
  {
   "cell_type": "code",
   "execution_count": 640,
   "metadata": {
    "collapsed": false
   },
   "outputs": [],
   "source": [
    "pattern_dict = {}"
   ]
  },
  {
   "cell_type": "code",
   "execution_count": 641,
   "metadata": {
    "collapsed": false
   },
   "outputs": [],
   "source": [
    "i = 0\n",
    "for i in range(264):\n",
    "    flag = 0\n",
    "    for j in range(len(pattern_data)):\n",
    "        for k in range(len(pattern_data[j]['changedFiles'])):\n",
    "            for key in pattern_data[j]['changedFiles'].keys():\n",
    "                file_name = key.lstrip()\n",
    "                file_name = file_name.rstrip()\n",
    "                if file_name in lines[i]:\n",
    "                    flag = 1\n",
    "                    pattern_dict[i] = pattern_data[j]['repairPatterns']\n",
    "                    #pattern_files.append(file_name)\n",
    "    if flag == 0:\n",
    "        print(lines[i])"
   ]
  },
  {
   "cell_type": "code",
   "execution_count": 642,
   "metadata": {
    "collapsed": true
   },
   "outputs": [],
   "source": [
    "classification_types = set()\n",
    "for bug, patterns in pattern_dict.items():\n",
    "    for pattern in patterns:\n",
    "        if pattern not in classification_types:\n",
    "            classification_types.add(pattern)"
   ]
  },
  {
   "cell_type": "code",
   "execution_count": 643,
   "metadata": {
    "collapsed": false
   },
   "outputs": [
    {
     "data": {
      "text/plain": [
       "29"
      ]
     },
     "execution_count": 643,
     "metadata": {},
     "output_type": "execute_result"
    }
   ],
   "source": [
    "len(classification_types)"
   ]
  },
  {
   "cell_type": "code",
   "execution_count": 644,
   "metadata": {
    "collapsed": true
   },
   "outputs": [],
   "source": [
    "categories = ['ChangeDistiller']\n",
    "category_dict = {}"
   ]
  },
  {
   "cell_type": "code",
   "execution_count": 645,
   "metadata": {
    "collapsed": false
   },
   "outputs": [],
   "source": [
    "for cluster_num, bugs in clust_dict.items():\n",
    "    for bug in bugs:\n",
    "        if cluster_num in category_dict:\n",
    "            patterns_before = category_dict[cluster_num]['pattern_count']\n",
    "            for pattern in pattern_dict[bug]:\n",
    "                if pattern in classification_types:\n",
    "                    category_dict[cluster_num]['pattern_count'] += 1\n",
    "                    if pattern in category_dict[cluster_num]:\n",
    "                        category_dict[cluster_num][pattern] += 1\n",
    "                    else:\n",
    "                        category_dict[cluster_num][pattern] = 1\n",
    "            if category_dict[cluster_num]['pattern_count'] != patterns_before:\n",
    "                category_dict[cluster_num]['bug_count'] += 1\n",
    "        else:\n",
    "            category_dict[cluster_num] = {}\n",
    "            category_dict[cluster_num]['pattern_count'] = 0\n",
    "            patterns_before = category_dict[cluster_num]['pattern_count']\n",
    "            for pattern in pattern_dict[bug]:\n",
    "                if pattern in classification_types:\n",
    "                    category_dict[cluster_num]['pattern_count'] += 1\n",
    "                    category_dict[cluster_num][pattern] = 1\n",
    "            if category_dict[cluster_num]['pattern_count'] != patterns_before:\n",
    "                category_dict[cluster_num]['bug_count'] = 1"
   ]
  },
  {
   "cell_type": "code",
   "execution_count": 646,
   "metadata": {
    "collapsed": false
   },
   "outputs": [],
   "source": [
    "cluster_patterns = {}\n",
    "for cluster_num in category_dict:\n",
    "    if category_dict[cluster_num]['bug_count'] > 1:\n",
    "        for pattern in category_dict[cluster_num]:\n",
    "            if pattern != 'pattern_count' and pattern != 'bug_count':\n",
    "                tmp = category_dict[cluster_num][pattern] / category_dict[cluster_num]['bug_count']\n",
    "                #print(tmp)\n",
    "                if tmp >= 0.5:\n",
    "                    if pattern in cluster_patterns:\n",
    "                        if tmp > cluster_patterns[pattern][1]:\n",
    "                            cluster_patterns[pattern] = (cluster_num,tmp)\n",
    "                    else:\n",
    "                        cluster_patterns[pattern] = (cluster_num,tmp)"
   ]
  },
  {
   "cell_type": "code",
   "execution_count": 647,
   "metadata": {
    "collapsed": false
   },
   "outputs": [
    {
     "data": {
      "text/plain": [
       "{'singleLine': (0, 0.5595238095238095),\n",
       " 'condBlockOthersAdd': (13, 0.5),\n",
       " 'condBlockRetAdd': (3, 1.0),\n",
       " 'wrongComp': (4, 0.5555555555555556),\n",
       " 'missComp': (7, 0.5),\n",
       " 'condBlockExcAdd': (3, 0.5),\n",
       " 'wrapsIfElse': (3, 0.5),\n",
       " 'wrapsIf': (3, 0.5),\n",
       " 'blockRemove': (9, 0.5),\n",
       " 'condBlockRem': (9, 0.5),\n",
       " 'expArithMod': (9, 0.5),\n",
       " 'wrongVarRef': (9, 0.5),\n",
       " 'expLogicMod': (9, 0.5),\n",
       " 'initFix': (9, 0.5)}"
      ]
     },
     "execution_count": 647,
     "metadata": {},
     "output_type": "execute_result"
    }
   ],
   "source": [
    "cluster_patterns"
   ]
  },
  {
   "cell_type": "code",
   "execution_count": 648,
   "metadata": {
    "collapsed": false
   },
   "outputs": [
    {
     "name": "stdout",
     "output_type": "stream",
     "text": [
      "\n",
      "\tCluster Number 0 Pattern singleLine Confidence 0.5595238095238095\n",
      "\n",
      "\tCluster Number 13 Pattern condBlockOthersAdd Confidence 0.5\n",
      "\n",
      "\tCluster Number 3 Pattern condBlockRetAdd Confidence 1.0\n",
      "\n",
      "\tCluster Number 4 Pattern wrongComp Confidence 0.5555555555555556\n",
      "\n",
      "\tCluster Number 7 Pattern missComp Confidence 0.5\n",
      "\n",
      "\tCluster Number 3 Pattern condBlockExcAdd Confidence 0.5\n",
      "\n",
      "\tCluster Number 3 Pattern wrapsIfElse Confidence 0.5\n",
      "\n",
      "\tCluster Number 3 Pattern wrapsIf Confidence 0.5\n",
      "\n",
      "\tCluster Number 9 Pattern blockRemove Confidence 0.5\n",
      "\n",
      "\tCluster Number 9 Pattern condBlockRem Confidence 0.5\n",
      "\n",
      "\tCluster Number 9 Pattern expArithMod Confidence 0.5\n",
      "\n",
      "\tCluster Number 9 Pattern wrongVarRef Confidence 0.5\n",
      "\n",
      "\tCluster Number 9 Pattern expLogicMod Confidence 0.5\n",
      "\n",
      "\tCluster Number 9 Pattern initFix Confidence 0.5\n"
     ]
    }
   ],
   "source": [
    "for pattern in cluster_patterns:\n",
    "    print('')\n",
    "    print('\\tCluster Number',cluster_patterns[pattern][0],'Pattern',pattern,'Confidence',cluster_patterns[pattern][1])"
   ]
  },
  {
   "cell_type": "code",
   "execution_count": 649,
   "metadata": {
    "collapsed": false
   },
   "outputs": [],
   "source": [
    "cluster_set = set()\n",
    "for pattern in cluster_patterns:\n",
    "    #print('')\n",
    "    #print('\\tCluster Number',cluster_patterns[pattern][0]\n",
    "    cluster_set.add(cluster_patterns[pattern][0])"
   ]
  },
  {
   "cell_type": "code",
   "execution_count": 650,
   "metadata": {
    "collapsed": false
   },
   "outputs": [
    {
     "data": {
      "text/plain": [
       "6"
      ]
     },
     "execution_count": 650,
     "metadata": {},
     "output_type": "execute_result"
    }
   ],
   "source": [
    "len(cluster_set)"
   ]
  },
  {
   "cell_type": "code",
   "execution_count": 681,
   "metadata": {
    "collapsed": false
   },
   "outputs": [
    {
     "data": {
      "text/plain": [
       "{0: ['condBlockOthersAdd', 'missComp', 'missNullCheckN'],\n",
       " 1: ['condBlockRetAdd'],\n",
       " 2: ['expArithMod', 'missComp', 'singleLine'],\n",
       " 3: ['expLogicExpand', 'singleLine'],\n",
       " 4: ['expLogicMod', 'wrongComp'],\n",
       " 5: ['condBlockRetAdd', 'expLogicExpand'],\n",
       " 6: ['condBlockRetAdd', 'expLogicExpand'],\n",
       " 7: ['expLogicExpand'],\n",
       " 8: ['expLogicExpand', 'singleLine'],\n",
       " 9: ['condBlockOthersAdd', 'copyPaste', 'expLogicMod', 'initFix'],\n",
       " 10: ['blockRemove', 'condBlockOthersAdd', 'condBlockRem', 'missComp'],\n",
       " 11: ['condBlockOthersAdd', 'expLogicExpand', 'initFix', 'wrongMethodRef'],\n",
       " 12: ['condBlockRetAdd', 'expLogicExpand', 'missComp', 'missNullCheckP'],\n",
       " 13: ['condBlockRetAdd', 'expLogicExpand', 'missComp', 'missNullCheckP'],\n",
       " 14: ['expArithMod', 'missComp', 'singleLine'],\n",
       " 15: ['wrapsMethod'],\n",
       " 16: ['condBlockOthersAdd', 'missComp'],\n",
       " 17: ['condBlockRetAdd', 'expLogicExpand'],\n",
       " 18: ['condBlockRetAdd', 'missComp'],\n",
       " 19: ['expLogicMod', 'singleLine'],\n",
       " 20: ['expLogicExpand', 'wrapsIfElse', 'wrongMethodRef'],\n",
       " 21: ['condBlockExcAdd',\n",
       "  'condBlockOthersAdd',\n",
       "  'expLogicExpand',\n",
       "  'expLogicMod',\n",
       "  'initFix',\n",
       "  'missNullCheckN',\n",
       "  'missNullCheckP',\n",
       "  'wrapsIfElse'],\n",
       " 22: ['missComp', 'singleLine'],\n",
       " 23: ['condBlockOthersAdd', 'condBlockRetAdd', 'missComp'],\n",
       " 24: ['condBlockOthersAdd', 'missComp'],\n",
       " 25: ['expLogicExpand', 'singleLine'],\n",
       " 26: ['expLogicMod', 'wrongComp'],\n",
       " 27: ['condBlockRetAdd', 'expLogicMod'],\n",
       " 28: ['expLogicExpand'],\n",
       " 29: ['blockRemove', 'condBlockRem', 'wrongComp'],\n",
       " 30: ['missComp', 'singleLine'],\n",
       " 31: ['condBlockRetAdd', 'expLogicExpand'],\n",
       " 32: ['condBlockRetAdd', 'expLogicMod'],\n",
       " 33: ['expLogicExpand', 'singleLine'],\n",
       " 34: ['wrapsIfElse'],\n",
       " 35: ['expLogicExpand', 'singleLine'],\n",
       " 36: ['singleLine', 'wrapsIf'],\n",
       " 37: ['expLogicExpand'],\n",
       " 38: ['expLogicExpand', 'singleLine'],\n",
       " 39: ['expLogicExpand', 'singleLine'],\n",
       " 40: ['missComp', 'singleLine'],\n",
       " 41: ['expLogicMod', 'singleLine'],\n",
       " 42: ['condBlockOthersAdd'],\n",
       " 43: ['wrapsIfElse'],\n",
       " 44: ['condBlockRetAdd'],\n",
       " 45: ['condBlockOthersAdd', 'expLogicExpand', 'initFix', 'wrongMethodRef'],\n",
       " 46: ['singleLine', 'wrapsIf'],\n",
       " 47: ['singleLine', 'wrapsIfElse'],\n",
       " 48: ['condBlockExcAdd',\n",
       "  'condBlockOthersAdd',\n",
       "  'expLogicExpand',\n",
       "  'expLogicMod',\n",
       "  'initFix',\n",
       "  'missNullCheckN',\n",
       "  'missNullCheckP',\n",
       "  'wrapsIfElse'],\n",
       " 49: ['condBlockRetAdd'],\n",
       " 50: ['missComp', 'notClassified'],\n",
       " 51: ['copyPaste', 'wrongComp', 'wrongMethodRef'],\n",
       " 52: ['condBlockRetAdd', 'expLogicExpand'],\n",
       " 53: ['missComp', 'singleLine'],\n",
       " 54: ['expLogicExpand', 'expLogicMod', 'wrapsIf'],\n",
       " 55: ['copyPaste', 'expLogicExpand'],\n",
       " 56: ['expLogicExpand', 'singleLine'],\n",
       " 57: ['codeMove'],\n",
       " 58: ['expLogicExpand', 'singleLine'],\n",
       " 59: ['expLogicExpand', 'singleLine'],\n",
       " 60: ['expLogicExpand', 'singleLine'],\n",
       " 61: ['condBlockRetAdd', 'expLogicMod'],\n",
       " 62: ['condBlockRetAdd',\n",
       "  'expLogicReduce',\n",
       "  'initFix',\n",
       "  'missNullCheckP',\n",
       "  'wrapsIfElse',\n",
       "  'wrongMethodRef'],\n",
       " 63: ['wrapsIfElse'],\n",
       " 64: ['expLogicExpand', 'singleLine'],\n",
       " 65: ['missComp', 'singleLine'],\n",
       " 66: ['wrapsIfElse'],\n",
       " 67: ['expLogicExpand', 'singleLine'],\n",
       " 68: ['expLogicExpand', 'singleLine'],\n",
       " 69: ['expLogicExpand', 'singleLine'],\n",
       " 70: ['expLogicMod', 'wrongComp'],\n",
       " 71: ['expLogicExpand', 'singleLine'],\n",
       " 72: ['condBlockExcAdd',\n",
       "  'condBlockOthersAdd',\n",
       "  'expLogicExpand',\n",
       "  'expLogicMod',\n",
       "  'initFix',\n",
       "  'missNullCheckN',\n",
       "  'missNullCheckP',\n",
       "  'wrapsIfElse'],\n",
       " 73: ['expLogicMod', 'singleLine'],\n",
       " 74: ['wrapsMethod'],\n",
       " 75: ['expArithMod', 'missComp', 'singleLine'],\n",
       " 76: ['condBlockOthersAdd', 'condBlockRetAdd', 'missComp'],\n",
       " 77: ['condBlockRetAdd', 'expLogicMod'],\n",
       " 78: ['expLogicExpand', 'singleLine'],\n",
       " 79: ['condBlockOthersAdd', 'expLogicExpand', 'missNullCheckN'],\n",
       " 80: ['condBlockRetAdd', 'expLogicExpand'],\n",
       " 81: ['condBlockRetAdd', 'missComp'],\n",
       " 82: ['expLogicExpand', 'singleLine'],\n",
       " 83: ['expLogicExpand', 'wrapsIfElse', 'wrongMethodRef'],\n",
       " 84: ['condBlockRetAdd',\n",
       "  'expLogicReduce',\n",
       "  'initFix',\n",
       "  'missNullCheckP',\n",
       "  'wrapsIfElse',\n",
       "  'wrongMethodRef'],\n",
       " 85: ['condBlockRetAdd', 'expLogicMod'],\n",
       " 86: ['expLogicMod', 'missNullCheckN', 'singleLine'],\n",
       " 87: ['expLogicExpand'],\n",
       " 88: ['condBlockOthersAdd'],\n",
       " 89: ['missComp', 'wrapsLoop'],\n",
       " 90: ['condBlockRetAdd', 'missComp'],\n",
       " 91: ['expLogicExpand'],\n",
       " 92: ['expLogicExpand', 'singleLine'],\n",
       " 93: ['condBlockOthersAdd', 'missComp'],\n",
       " 94: ['expArithMod', 'missComp', 'singleLine'],\n",
       " 95: ['condBlockRetAdd', 'expLogicMod'],\n",
       " 96: ['condBlockOthersAdd'],\n",
       " 97: ['expLogicExpand', 'singleLine'],\n",
       " 98: ['wrapsIfElse'],\n",
       " 99: ['expLogicExpand', 'singleLine'],\n",
       " 100: ['expLogicExpand', 'singleLine'],\n",
       " 101: ['expLogicMod', 'wrongComp'],\n",
       " 102: ['condBlockOthersAdd',\n",
       "  'expLogicMod',\n",
       "  'initFix',\n",
       "  'missNullCheckN',\n",
       "  'missNullCheckP'],\n",
       " 103: ['missNullCheckP', 'singleLine', 'wrapsIfElse'],\n",
       " 104: ['blockRemove', 'expArithMod', 'fixAPI', 'wrongComp'],\n",
       " 105: ['condBlockExcAdd', 'condBlockRetAdd', 'wrapsIfElse'],\n",
       " 106: ['condBlockOthersAdd', 'condBlockRetAdd'],\n",
       " 107: ['condBlockExcAdd', 'condBlockRetAdd', 'expLogicMod', 'missComp'],\n",
       " 108: ['wrapsIfElse'],\n",
       " 109: ['condBlockOthersAdd', 'copyPaste', 'missComp'],\n",
       " 110: ['condBlockRetAdd', 'expLogicExpand'],\n",
       " 111: ['condBlockOthersAdd', 'missComp', 'missNullCheckP'],\n",
       " 112: ['missComp', 'singleLine'],\n",
       " 113: ['constChange', 'initFix'],\n",
       " 114: ['condBlockRetAdd', 'expLogicExpand'],\n",
       " 115: ['condBlockOthersAdd', 'missComp', 'missNullCheckP'],\n",
       " 116: ['wrapsIfElse'],\n",
       " 117: ['wrapsIf'],\n",
       " 118: ['condBlockRetAdd', 'fixAPI', 'wrongComp'],\n",
       " 119: ['expLogicExpand', 'missNullCheckN', 'unwrapIfElse'],\n",
       " 120: ['condBlockOthersAdd', 'expLogicExpand', 'missComp'],\n",
       " 121: ['constChange', 'expLogicMod', 'singleLine', 'wrongVarRef'],\n",
       " 122: ['missComp', 'notClassified'],\n",
       " 123: ['missComp', 'notClassified'],\n",
       " 124: ['condBlockRetAdd', 'expLogicExpand'],\n",
       " 125: ['condBlockExcAdd', 'condBlockRetAdd', 'wrapsIfElse'],\n",
       " 126: ['missComp', 'singleLine'],\n",
       " 127: ['notClassified'],\n",
       " 128: ['expLogicReduce', 'wrongMethodRef'],\n",
       " 129: ['condBlockRetAdd', 'expLogicExpand'],\n",
       " 130: ['condBlockExcAdd'],\n",
       " 131: ['wrapsIf'],\n",
       " 132: ['expArithMod', 'singleLine', 'wrongComp', 'wrongVarRef'],\n",
       " 133: ['condBlockRetAdd', 'wrongComp'],\n",
       " 134: ['wrapsIf'],\n",
       " 135: ['singleLine'],\n",
       " 136: ['initFix', 'notClassified', 'wrongComp'],\n",
       " 137: ['singleLine'],\n",
       " 138: ['expArithMod', 'singleLine', 'wrongComp', 'wrongVarRef'],\n",
       " 139: ['missComp', 'singleLine'],\n",
       " 140: ['condBlockExcAdd'],\n",
       " 141: ['initFix', 'missComp', 'unwrapIfElse', 'unwrapMethod'],\n",
       " 142: ['condBlockOthersAdd', 'condBlockRetAdd', 'missComp', 'wrapsIf'],\n",
       " 143: ['singleLine', 'wrongVarRef'],\n",
       " 144: ['condBlockExcAdd', 'condBlockRetAdd', 'initFix', 'wrapsTryCatch'],\n",
       " 145: ['expArithMod', 'singleLine', 'wrongComp', 'wrongVarRef'],\n",
       " 146: ['condBlockRetAdd', 'expLogicExpand'],\n",
       " 147: ['condBlockExcAdd'],\n",
       " 148: ['condBlockExcAdd', 'missNullCheckN', 'wrapsIfElse'],\n",
       " 149: ['condBlockExcAdd', 'missNullCheckN', 'wrapsIfElse'],\n",
       " 150: ['condBlockOthersAdd', 'missComp', 'missNullCheckP'],\n",
       " 151: ['condBlockOthersAdd', 'missComp', 'missNullCheckP'],\n",
       " 152: ['initFix', 'missComp', 'unwrapIfElse', 'unwrapMethod'],\n",
       " 153: ['condBlockOthersAdd', 'condBlockRetAdd', 'missComp', 'wrapsIf'],\n",
       " 154: ['expArithMod', 'singleLine', 'wrongComp', 'wrongVarRef'],\n",
       " 155: ['condBlockOthersAdd', 'missComp'],\n",
       " 156: ['condBlockRetAdd', 'expLogicExpand'],\n",
       " 157: ['condBlockOthersAdd', 'copyPaste', 'missComp'],\n",
       " 158: ['condBlockRetAdd', 'expLogicExpand'],\n",
       " 159: ['singleLine', 'wrongVarRef'],\n",
       " 160: ['notClassified'],\n",
       " 161: ['missComp', 'singleLine'],\n",
       " 162: ['wrapsIfElse'],\n",
       " 163: ['condBlockOthersAdd', 'missComp', 'missNullCheckP'],\n",
       " 164: ['initFix', 'wrongVarRef'],\n",
       " 165: ['singleLine'],\n",
       " 166: ['blockRemove', 'expArithMod', 'wrongComp'],\n",
       " 167: ['condBlockRetAdd', 'expArithMod', 'initFix', 'wrongComp'],\n",
       " 168: ['notClassified'],\n",
       " 169: ['condBlockExcAdd'],\n",
       " 170: ['expArithMod', 'singleLine', 'unwrapMethod'],\n",
       " 171: ['notClassified'],\n",
       " 172: ['condBlockOthersAdd', 'copyPaste', 'missComp'],\n",
       " 173: ['copyPaste', 'wrapsLoop', 'wrongComp', 'wrongVarRef'],\n",
       " 174: ['blockRemove', 'condBlockRem', 'wrapsIfElse', 'wrongComp'],\n",
       " 175: ['condBlockExcAdd'],\n",
       " 176: ['blockRemove',\n",
       "  'condBlockOthersAdd',\n",
       "  'condBlockRem',\n",
       "  'expArithMod',\n",
       "  'wrongComp',\n",
       "  'wrongVarRef'],\n",
       " 177: ['condBlockOthersAdd'],\n",
       " 178: ['condBlockRetAdd', 'missComp'],\n",
       " 179: ['expLogicExpand', 'singleLine'],\n",
       " 180: ['expLogicMod', 'singleLine', 'unwrapMethod'],\n",
       " 181: ['condBlockOthersAdd'],\n",
       " 182: ['copyPaste',\n",
       "  'expArithMod',\n",
       "  'expLogicMod',\n",
       "  'wrapsIfElse',\n",
       "  'wrongVarRef'],\n",
       " 183: ['expLogicMod', 'initFix'],\n",
       " 184: ['expArithMod', 'singleLine'],\n",
       " 185: ['expLogicMod', 'singleLine', 'wrongVarRef'],\n",
       " 186: ['condBlockRetAdd', 'copyPaste'],\n",
       " 187: ['singleLine', 'wrongMethodRef'],\n",
       " 188: ['expArithMod', 'expLogicMod', 'wrongComp', 'wrongVarRef'],\n",
       " 189: ['condBlockExcAdd', 'condBlockRetAdd', 'wrapsTryCatch', 'wrongComp'],\n",
       " 190: ['expLogicMod', 'singleLine'],\n",
       " 191: ['missComp', 'singleLine', 'wrongVarRef'],\n",
       " 192: ['notClassified'],\n",
       " 193: ['copyPaste', 'missComp'],\n",
       " 194: ['singleLine', 'wrongVarRef'],\n",
       " 195: ['expArithMod', 'singleLine', 'unwrapMethod'],\n",
       " 196: ['condBlockRetAdd', 'missNullCheckN', 'wrapsIfElse'],\n",
       " 197: ['wrapsIfElse'],\n",
       " 198: ['notClassified'],\n",
       " 199: ['expLogicMod', 'singleLine', 'unwrapMethod'],\n",
       " 200: ['initFix', 'notClassified', 'wrongComp'],\n",
       " 201: ['blockRemove', 'condBlockRem', 'wrapsIfElse', 'wrongComp'],\n",
       " 202: ['expLogicMod', 'singleLine', 'unwrapMethod'],\n",
       " 203: ['condBlockOthersAdd', 'missComp', 'wrongComp'],\n",
       " 204: ['condBlockExcAdd', 'missComp'],\n",
       " 205: ['condBlockExcAdd'],\n",
       " 206: ['expArithMod', 'singleLine'],\n",
       " 207: ['missComp', 'singleLine'],\n",
       " 208: ['condBlockExcAdd'],\n",
       " 209: ['copyPaste', 'wrapsIfElse'],\n",
       " 210: ['initFix', 'singleLine', 'wrongVarRef'],\n",
       " 211: ['expArithMod', 'wrongComp', 'wrongMethodRef'],\n",
       " 212: ['condBlockExcAdd', 'condBlockRetAdd', 'wrapsTryCatch', 'wrongComp'],\n",
       " 213: ['copyPaste', 'expArithMod', 'initFix', 'wrongComp'],\n",
       " 214: ['condBlockRetAdd'],\n",
       " 215: ['expArithMod', 'singleLine', 'wrongComp'],\n",
       " 216: ['copyPaste', 'wrapsMethod', 'wrongVarRef'],\n",
       " 217: ['condBlockExcAdd'],\n",
       " 218: ['condBlockExcAdd'],\n",
       " 219: ['expArithMod', 'singleLine'],\n",
       " 220: ['copyPaste', 'wrapsIfElse'],\n",
       " 221: ['condBlockExcAdd', 'condBlockOthersAdd', 'missComp'],\n",
       " 222: ['condBlockExcAdd'],\n",
       " 223: ['codeMove'],\n",
       " 224: ['condBlockOthersAdd', 'wrapsIfElse'],\n",
       " 225: ['expArithMod', 'singleLine'],\n",
       " 226: ['condBlockExcAdd', 'missComp'],\n",
       " 227: ['copyPaste', 'expArithMod', 'wrongComp'],\n",
       " 228: ['notClassified'],\n",
       " 229: ['initFix', 'notClassified', 'wrongComp'],\n",
       " 230: ['condBlockExcAdd'],\n",
       " 231: ['wrapsIf'],\n",
       " 232: ['copyPaste', 'wrapsMethod'],\n",
       " 233: ['expLogicMod'],\n",
       " 234: ['initFix', 'wrongMethodRef'],\n",
       " 235: ['blockRemove', 'expArithMod', 'wrongComp'],\n",
       " 236: ['expArithMod', 'initFix', 'wrongComp'],\n",
       " 237: ['constChange', 'expArithMod', 'singleLine'],\n",
       " 238: ['expLogicMod', 'singleLine', 'unwrapMethod'],\n",
       " 239: ['expLogicMod', 'singleLine', 'unwrapMethod'],\n",
       " 240: ['blockRemove', 'condBlockRem', 'wrapsIfElse', 'wrongComp'],\n",
       " 241: ['condBlockExcAdd', 'missComp'],\n",
       " 242: ['copyPaste', 'wrapsMethod'],\n",
       " 243: ['blockRemove', 'condBlockRem', 'wrapsIfElse', 'wrongComp'],\n",
       " 244: ['singleLine', 'wrongMethodRef'],\n",
       " 245: ['expLogicExpand', 'missNullCheckP', 'singleLine'],\n",
       " 246: ['initFix', 'wrapsIf'],\n",
       " 247: ['singleLine', 'wrapsMethod'],\n",
       " 248: ['condBlockOthersAdd', 'expLogicReduce'],\n",
       " 249: ['condBlockRetAdd'],\n",
       " 250: ['condBlockOthersAdd', 'condBlockRetAdd', 'missNullCheckN', 'wrongComp'],\n",
       " 251: ['initFix', 'notClassified'],\n",
       " 252: ['condBlockOthersAdd', 'condBlockRetAdd', 'missNullCheckN', 'wrongComp'],\n",
       " 253: ['missComp', 'wrongMethodRef'],\n",
       " 254: ['singleLine', 'wrapsIf'],\n",
       " 255: ['condBlockOthersAdd', 'condBlockRetAdd', 'missNullCheckN', 'wrongComp'],\n",
       " 256: ['initFix', 'notClassified'],\n",
       " 257: ['wrapsIfElse'],\n",
       " 258: ['condBlockOthersAdd'],\n",
       " 259: ['condBlockOthersAdd', 'condBlockRetAdd', 'wrongComp'],\n",
       " 260: ['singleLine', 'wrapsIfElse'],\n",
       " 261: ['missNullCheckP', 'singleLine', 'wrapsIfElse'],\n",
       " 262: ['initFix', 'notClassified'],\n",
       " 263: ['missNullCheckP', 'singleLine', 'wrapsIfElse']}"
      ]
     },
     "execution_count": 681,
     "metadata": {},
     "output_type": "execute_result"
    }
   ],
   "source": []
  },
  {
   "cell_type": "code",
   "execution_count": null,
   "metadata": {
    "collapsed": true
   },
   "outputs": [],
   "source": []
  }
 ],
 "metadata": {
  "anaconda-cloud": {},
  "kernelspec": {
   "display_name": "Python [conda env:py36]",
   "language": "python",
   "name": "conda-env-py36-py"
  },
  "language_info": {
   "codemirror_mode": {
    "name": "ipython",
    "version": 3
   },
   "file_extension": ".py",
   "mimetype": "text/x-python",
   "name": "python",
   "nbconvert_exporter": "python",
   "pygments_lexer": "ipython3",
   "version": "3.6.7"
  }
 },
 "nbformat": 4,
 "nbformat_minor": 1
}
