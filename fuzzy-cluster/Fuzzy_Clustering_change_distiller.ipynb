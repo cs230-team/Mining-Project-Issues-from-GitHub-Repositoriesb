{
 "cells": [
  {
   "cell_type": "code",
   "execution_count": 2,
   "metadata": {
    "collapsed": false
   },
   "outputs": [
    {
     "name": "stdout",
     "output_type": "stream",
     "text": [
      "Requirement already up-to-date: scikit-fuzzy in c:\\users\\rupa\\appdata\\roaming\\python\\python36\\site-packages (0.4.1)\n",
      "Requirement already satisfied, skipping upgrade: scipy>=0.9.0 in c:\\users\\rupa\\appdata\\local\\programs\\python\\python36\\lib\\site-packages (from scikit-fuzzy) (1.1.0)\n",
      "Requirement already satisfied, skipping upgrade: numpy>=1.6.0 in c:\\users\\rupa\\appdata\\local\\programs\\python\\python36\\lib\\site-packages (from scikit-fuzzy) (1.13.3)\n",
      "Requirement already satisfied, skipping upgrade: networkx>=1.9.0 in c:\\users\\rupa\\appdata\\local\\programs\\python\\python36\\lib\\site-packages (from scikit-fuzzy) (2.2)\n",
      "Requirement already satisfied, skipping upgrade: decorator>=4.3.0 in c:\\users\\rupa\\appdata\\local\\programs\\python\\python36\\lib\\site-packages (from networkx>=1.9.0->scikit-fuzzy) (4.3.0)\n"
     ]
    },
    {
     "name": "stderr",
     "output_type": "stream",
     "text": [
      "You are using pip version 18.1, however version 19.1.1 is available.\n",
      "You should consider upgrading via the 'python -m pip install --upgrade pip' command.\n"
     ]
    }
   ],
   "source": [
    "!pip3 install -U scikit-fuzzy"
   ]
  },
  {
   "cell_type": "code",
   "execution_count": 3,
   "metadata": {
    "collapsed": false
   },
   "outputs": [],
   "source": [
    "import skfuzzy as fuzz"
   ]
  },
  {
   "cell_type": "code",
   "execution_count": 4,
   "metadata": {
    "collapsed": true
   },
   "outputs": [],
   "source": [
    "import numpy as np"
   ]
  },
  {
   "cell_type": "code",
   "execution_count": 5,
   "metadata": {
    "collapsed": true
   },
   "outputs": [],
   "source": [
    "my_data = np.genfromtxt('dataset/mat_csv.csv', delimiter=',')"
   ]
  },
  {
   "cell_type": "code",
   "execution_count": 6,
   "metadata": {
    "collapsed": false
   },
   "outputs": [
    {
     "data": {
      "text/plain": [
       "(48, 264)"
      ]
     },
     "execution_count": 6,
     "metadata": {},
     "output_type": "execute_result"
    }
   ],
   "source": [
    "my_data.shape"
   ]
  },
  {
   "cell_type": "code",
   "execution_count": 79,
   "metadata": {
    "collapsed": false
   },
   "outputs": [],
   "source": [
    "cntr, u_orig, _, _, _, _, _ = fuzz.cmeans(my_data, 2, 0.9, \n",
    "                                          error = 0.001, maxiter = 10000)"
   ]
  },
  {
   "cell_type": "code",
   "execution_count": 80,
   "metadata": {
    "collapsed": false
   },
   "outputs": [
    {
     "data": {
      "text/plain": [
       "(2, 48)"
      ]
     },
     "execution_count": 80,
     "metadata": {},
     "output_type": "execute_result"
    }
   ],
   "source": [
    "cntr.shape"
   ]
  },
  {
   "cell_type": "code",
   "execution_count": 81,
   "metadata": {
    "collapsed": false
   },
   "outputs": [
    {
     "data": {
      "text/plain": [
       "array([ True,  True, False, False, False])"
      ]
     },
     "execution_count": 81,
     "metadata": {},
     "output_type": "execute_result"
    }
   ],
   "source": [
    "cntr[0, 40:45] == cntr[1, 40:45]"
   ]
  },
  {
   "cell_type": "code",
   "execution_count": 82,
   "metadata": {
    "collapsed": false
   },
   "outputs": [
    {
     "data": {
      "text/plain": [
       "43"
      ]
     },
     "execution_count": 82,
     "metadata": {},
     "output_type": "execute_result"
    }
   ],
   "source": [
    "np.argmax(cntr[0])"
   ]
  },
  {
   "cell_type": "code",
   "execution_count": 83,
   "metadata": {
    "collapsed": false
   },
   "outputs": [
    {
     "data": {
      "text/plain": [
       "array([ True,  True, False, False, False, False,  True,  True, False,\n",
       "       False, False, False,  True, False, False, False, False, False,\n",
       "       False,  True])"
      ]
     },
     "execution_count": 83,
     "metadata": {},
     "output_type": "execute_result"
    }
   ],
   "source": [
    "cntr[0].argsort()[-20:][::-1] == cntr[1].argsort()[-20:][::-1]"
   ]
  },
  {
   "cell_type": "code",
   "execution_count": 60,
   "metadata": {
    "collapsed": false
   },
   "outputs": [
    {
     "data": {
      "text/plain": [
       "array([43, 42, 45, 46, 15, 12, 44,  7, 19, 13], dtype=int64)"
      ]
     },
     "execution_count": 60,
     "metadata": {},
     "output_type": "execute_result"
    }
   ],
   "source": [
    "cntr[1].argsort()[-10:][::-1]"
   ]
  },
  {
   "cell_type": "code",
   "execution_count": 55,
   "metadata": {
    "collapsed": false
   },
   "outputs": [
    {
     "data": {
      "image/png": "[encoded data removed]",
      "text/plain": [
       "<Figure size 432x288 with 1 Axes>"
      ]
     },
     "metadata": {
      "needs_background": "light"
     },
     "output_type": "display_data"
    },
    {
     "data": {
      "image/png": "[encoded data removed]",
      "text/plain": [
       "<Figure size 432x288 with 1 Axes>"
      ]
     },
     "metadata": {
      "needs_background": "light"
     },
     "output_type": "display_data"
    }
   ],
   "source": [
    "for j in range(2):\n",
    "    plt.figure()\n",
    "    plt.plot([i for i in range(48)], cntr[j])\n",
    "    plt.show()"
   ]
  },
  {
   "cell_type": "code",
   "execution_count": 25,
   "metadata": {
    "collapsed": true
   },
   "outputs": [],
   "source": [
    "import matplotlib.pyplot as plt"
   ]
  },
  {
   "cell_type": "code",
   "execution_count": 26,
   "metadata": {
    "collapsed": true
   },
   "outputs": [
    {
     "data": {
      "text/plain": [
       "array([[0.50396502, 0.50396502, 0.50396502, 0.50385875, 0.50132923,\n",
       "        0.50255975, 0.50185644, 0.49972541, 0.50359515, 0.50384914,\n",
       "        0.50396502, 0.50002222, 0.49934839, 0.49998764, 0.50199926,\n",
       "        0.4995996 , 0.50396502, 0.50396502, 0.50396502, 0.50051487,\n",
       "        0.50396502, 0.50368452, 0.50399991, 0.5030727 , 0.50390575,\n",
       "        0.50390277, 0.50385735, 0.50396502, 0.50396502, 0.50396502,\n",
       "        0.50396502, 0.50396502, 0.50384015, 0.50396502, 0.5028953 ,\n",
       "        0.50367711, 0.50396502, 0.50396502, 0.50396502, 0.50353886,\n",
       "        0.50396502, 0.50396502, 0.49980495, 0.49982353, 0.49978108,\n",
       "        0.49957323, 0.49970561, 0.50396502],\n",
       "       [0.49603498, 0.49603498, 0.49603498, 0.49614125, 0.49867077,\n",
       "        0.49744025, 0.49814356, 0.50027459, 0.49640485, 0.49615086,\n",
       "        0.49603498, 0.49997778, 0.50065161, 0.50001236, 0.49800074,\n",
       "        0.5004004 , 0.49603498, 0.49603498, 0.49603498, 0.49948513,\n",
       "        0.49603498, 0.49631548, 0.49600009, 0.4969273 , 0.49609425,\n",
       "        0.49609723, 0.49614265, 0.49603498, 0.49603498, 0.49603498,\n",
       "        0.49603498, 0.49603498, 0.49615985, 0.49603498, 0.4971047 ,\n",
       "        0.49632289, 0.49603498, 0.49603498, 0.49603498, 0.49646114,\n",
       "        0.49603498, 0.49603498, 0.50019505, 0.50017647, 0.50021892,\n",
       "        0.50042677, 0.50029439, 0.49603498]])"
      ]
     },
     "execution_count": 26,
     "metadata": {},
     "output_type": "execute_result"
    }
   ],
   "source": [
    "u_orig"
   ]
  },
  {
   "cell_type": "code",
   "execution_count": 21,
   "metadata": {
    "collapsed": false
   },
   "outputs": [
    {
     "ename": "IndexError",
     "evalue": "index 48 is out of bounds for axis 1 with size 48",
     "output_type": "error",
     "traceback": [
      "\u001b[1;31m---------------------------------------------------------------------------\u001b[0m",
      "\u001b[1;31mIndexError\u001b[0m                                Traceback (most recent call last)",
      "\u001b[1;32m<ipython-input-21-777047c38d48>\u001b[0m in \u001b[0;36m<module>\u001b[1;34m\u001b[0m\n\u001b[0;32m      3\u001b[0m \u001b[0max2\u001b[0m\u001b[1;33m.\u001b[0m\u001b[0mset_title\u001b[0m\u001b[1;33m(\u001b[0m\u001b[1;34m'Trained model'\u001b[0m\u001b[1;33m)\u001b[0m\u001b[1;33m\u001b[0m\u001b[1;33m\u001b[0m\u001b[0m\n\u001b[0;32m      4\u001b[0m \u001b[1;32mfor\u001b[0m \u001b[0mj\u001b[0m \u001b[1;32min\u001b[0m \u001b[0mrange\u001b[0m\u001b[1;33m(\u001b[0m\u001b[1;36m50\u001b[0m\u001b[1;33m)\u001b[0m\u001b[1;33m:\u001b[0m\u001b[1;33m\u001b[0m\u001b[1;33m\u001b[0m\u001b[0m\n\u001b[1;32m----> 5\u001b[1;33m     ax2.plot(cntr[0, j],\n\u001b[0m\u001b[0;32m      6\u001b[0m              \u001b[0mcntr\u001b[0m\u001b[1;33m[\u001b[0m\u001b[1;36m1\u001b[0m\u001b[1;33m,\u001b[0m \u001b[0mj\u001b[0m\u001b[1;33m]\u001b[0m\u001b[1;33m,\u001b[0m \u001b[1;34m'o'\u001b[0m\u001b[1;33m,\u001b[0m\u001b[1;33m\u001b[0m\u001b[1;33m\u001b[0m\u001b[0m\n\u001b[0;32m      7\u001b[0m              label='series ' + str(j))\n",
      "\u001b[1;31mIndexError\u001b[0m: index 48 is out of bounds for axis 1 with size 48"
     ]
    },
    {
     "data": {
      "image/png": "[encoded data removed]",
      "text/plain": [
       "<Figure size 432x288 with 1 Axes>"
      ]
     },
     "metadata": {
      "needs_background": "light"
     },
     "output_type": "display_data"
    }
   ],
   "source": [
    "fig2, ax2 = plt.subplots()\n",
    "#ax2.axis([-0.001, ])\n",
    "ax2.set_title('Trained model')\n",
    "for j in range(50):\n",
    "    ax2.plot(cntr[0, j],\n",
    "             cntr[1, j], 'o',\n",
    "             label='series ' + str(j))"
   ]
  },
  {
   "cell_type": "code",
   "execution_count": 87,
   "metadata": {
    "collapsed": false
   },
   "outputs": [
    {
     "data": {
      "text/plain": [
       "array([0.        , 0.11111111, 0.22222222, 0.33333333, 0.44444444,\n",
       "       0.55555556, 0.66666667, 0.77777778, 0.88888889, 1.        ])"
      ]
     },
     "execution_count": 87,
     "metadata": {},
     "output_type": "execute_result"
    }
   ],
   "source": [
    "np.linspace(0, 1, 10)"
   ]
  },
  {
   "cell_type": "code",
   "execution_count": 107,
   "metadata": {
    "collapsed": true
   },
   "outputs": [],
   "source": [
    "num_clusters = [i for i in range(2, 205, 5)]\n",
    "mem_values = np.linspace(0, 0.99, 10)\n",
    "errors = np.linspace(0, 0.001, 10)\n",
    "iters = [i for i in range(500, 1001, 500)]"
   ]
  },
  {
   "cell_type": "code",
   "execution_count": 103,
   "metadata": {
    "collapsed": false
   },
   "outputs": [
    {
     "data": {
      "text/plain": [
       "1"
      ]
     },
     "execution_count": 103,
     "metadata": {},
     "output_type": "execute_result"
    }
   ],
   "source": [
    "len(iters)"
   ]
  },
  {
   "cell_type": "code",
   "execution_count": 105,
   "metadata": {
    "collapsed": false
   },
   "outputs": [
    {
     "data": {
      "text/plain": [
       "41"
      ]
     },
     "execution_count": 105,
     "metadata": {},
     "output_type": "execute_result"
    }
   ],
   "source": [
    "len(num_clusters)"
   ]
  },
  {
   "cell_type": "code",
   "execution_count": 106,
   "metadata": {
    "collapsed": false
   },
   "outputs": [
    {
     "data": {
      "text/plain": [
       "1.1388888888888888"
      ]
     },
     "execution_count": 106,
     "metadata": {},
     "output_type": "execute_result"
    }
   ],
   "source": [
    "4100/3600"
   ]
  },
  {
   "cell_type": "code",
   "execution_count": 98,
   "metadata": {
    "collapsed": false
   },
   "outputs": [
    {
     "data": {
      "text/plain": [
       "7200"
      ]
     },
     "execution_count": 98,
     "metadata": {},
     "output_type": "execute_result"
    }
   ],
   "source": [
    "60*60*2"
   ]
  },
  {
   "cell_type": "code",
   "execution_count": 111,
   "metadata": {
    "collapsed": false
   },
   "outputs": [
    {
     "name": "stdout",
     "output_type": "stream",
     "text": [
      "Clustering for 2 clusters\n",
      "Clustering for 7 clusters\n",
      "Clustering for 12 clusters\n",
      "Clustering for 17 clusters\n",
      "Clustering for 22 clusters\n",
      "Clustering for 27 clusters\n",
      "Clustering for 32 clusters\n",
      "Clustering for 37 clusters\n",
      "Clustering for 42 clusters\n",
      "Clustering for 47 clusters\n",
      "Clustering for 52 clusters\n",
      "Clustering for 57 clusters\n",
      "Clustering for 62 clusters\n",
      "Clustering for 67 clusters\n",
      "Clustering for 72 clusters\n",
      "Clustering for 77 clusters\n",
      "Clustering for 82 clusters\n",
      "Clustering for 87 clusters\n",
      "Clustering for 92 clusters\n",
      "Clustering for 97 clusters\n",
      "Clustering for 102 clusters\n",
      "Clustering for 107 clusters\n",
      "Clustering for 112 clusters\n",
      "Clustering for 117 clusters\n",
      "Clustering for 122 clusters\n",
      "Clustering for 127 clusters\n",
      "Clustering for 132 clusters\n",
      "Clustering for 137 clusters\n",
      "Clustering for 142 clusters\n",
      "Clustering for 147 clusters\n",
      "Clustering for 152 clusters\n",
      "Clustering for 157 clusters\n",
      "Clustering for 162 clusters\n",
      "Clustering for 167 clusters\n",
      "Clustering for 172 clusters\n",
      "Clustering for 177 clusters\n",
      "Clustering for 182 clusters\n",
      "Clustering for 187 clusters\n",
      "Clustering for 192 clusters\n",
      "Clustering for 197 clusters\n",
      "Clustering for 202 clusters\n"
     ]
    }
   ],
   "source": [
    "data_to_save = [] #number of clusers, mem_val, error value, centers\n",
    "for cluster in num_clusters:\n",
    "    print(\"Clustering for \" + str(cluster) + \" clusters\")\n",
    "    for mem in mem_values:\n",
    "        for err in errors:\n",
    "            cntr, u_orig, _, _, _, _, _ = fuzz.cmeans(my_data, cluster, mem, \n",
    "                                          error = err, maxiter = 10000)\n",
    "            data_to_save.append([cluster, mem, err, cntr])"
   ]
  },
  {
   "cell_type": "code",
   "execution_count": 110,
   "metadata": {
    "collapsed": true
   },
   "outputs": [],
   "source": [
    "import pickle"
   ]
  },
  {
   "cell_type": "code",
   "execution_count": 114,
   "metadata": {
    "collapsed": false
   },
   "outputs": [],
   "source": [
    "pickle.dump(data_to_save, open('cluster_centers.csv', 'wb'))"
   ]
  },
  {
   "cell_type": "code",
   "execution_count": null,
   "metadata": {
    "collapsed": true
   },
   "outputs": [],
   "source": [
    "data_to_save[0]"
   ]
  },
  {
   "cell_type": "code",
   "execution_count": null,
   "metadata": {
    "collapsed": true
   },
   "outputs": [],
   "source": [
    "len(data_to_save)"
   ]
  },
  {
   "cell_type": "code",
   "execution_count": null,
   "metadata": {
    "collapsed": true
   },
   "outputs": [],
   "source": []
  }
 ],
 "metadata": {
  "anaconda-cloud": {},
  "kernelspec": {
   "display_name": "Python [conda env:py36]",
   "language": "python",
   "name": "conda-env-py36-py"
  },
  "language_info": {
   "codemirror_mode": {
    "name": "ipython",
    "version": 3
   },
   "file_extension": ".py",
   "mimetype": "text/x-python",
   "name": "python",
   "nbconvert_exporter": "python",
   "pygments_lexer": "ipython3",
   "version": "3.6.7"
  }
 },
 "nbformat": 4,
 "nbformat_minor": 0
}
